{
 "cells": [
  {
   "cell_type": "code",
   "execution_count": 3,
   "metadata": {},
   "outputs": [],
   "source": [
    "import pandas as pd\n",
    "import matplotlib.pyplot as plt\n",
    "import seaborn as sns\n",
    "from scipy import stats\n",
    "from datetime import timedelta\n",
    "import numpy as np\n",
    "from sklearn.cross_validation import train_test_split,ShuffleSplit\n",
    "from sklearn.linear_model import LinearRegression\n",
    "from sklearn.metrics import mean_squared_error, regression\n",
    "import statsmodels.api as sm\n",
    "from sklearn.preprocessing import StandardScaler\n",
    "from sklearn.ensemble import RandomForestRegressor\n",
    "from sklearn import metrics\n",
    "from sklearn.ensemble import GradientBoostingRegressor\n",
    "from sklearn.grid_search import GridSearchCV\n",
    "from sklearn.learning_curve import learning_curve\n",
    "\n",
    "import warnings\n",
    "warnings.filterwarnings('ignore')"
   ]
  },
  {
   "cell_type": "markdown",
   "metadata": {},
   "source": [
    "#### Downloading the NYC Taxi and Limousine trip record data for GREEN TAXIS for September 2015."
   ]
  },
  {
   "cell_type": "code",
   "execution_count": 4,
   "metadata": {},
   "outputs": [
    {
     "data": {
      "text/html": [
       "<div>\n",
       "<style scoped>\n",
       "    .dataframe tbody tr th:only-of-type {\n",
       "        vertical-align: middle;\n",
       "    }\n",
       "\n",
       "    .dataframe tbody tr th {\n",
       "        vertical-align: top;\n",
       "    }\n",
       "\n",
       "    .dataframe thead th {\n",
       "        text-align: right;\n",
       "    }\n",
       "</style>\n",
       "<table border=\"1\" class=\"dataframe\">\n",
       "  <thead>\n",
       "    <tr style=\"text-align: right;\">\n",
       "      <th></th>\n",
       "      <th>VendorID</th>\n",
       "      <th>lpep_pickup_datetime</th>\n",
       "      <th>Lpep_dropoff_datetime</th>\n",
       "      <th>Store_and_fwd_flag</th>\n",
       "      <th>RateCodeID</th>\n",
       "      <th>Pickup_longitude</th>\n",
       "      <th>Pickup_latitude</th>\n",
       "      <th>Dropoff_longitude</th>\n",
       "      <th>Dropoff_latitude</th>\n",
       "      <th>Passenger_count</th>\n",
       "      <th>...</th>\n",
       "      <th>Fare_amount</th>\n",
       "      <th>Extra</th>\n",
       "      <th>MTA_tax</th>\n",
       "      <th>Tip_amount</th>\n",
       "      <th>Tolls_amount</th>\n",
       "      <th>Ehail_fee</th>\n",
       "      <th>improvement_surcharge</th>\n",
       "      <th>Total_amount</th>\n",
       "      <th>Payment_type</th>\n",
       "      <th>Trip_type</th>\n",
       "    </tr>\n",
       "  </thead>\n",
       "  <tbody>\n",
       "    <tr>\n",
       "      <th>0</th>\n",
       "      <td>2</td>\n",
       "      <td>2015-09-01 00:02:34</td>\n",
       "      <td>2015-09-01 00:02:38</td>\n",
       "      <td>N</td>\n",
       "      <td>5</td>\n",
       "      <td>-73.979485</td>\n",
       "      <td>40.684956</td>\n",
       "      <td>-73.979431</td>\n",
       "      <td>40.685020</td>\n",
       "      <td>1</td>\n",
       "      <td>...</td>\n",
       "      <td>7.8</td>\n",
       "      <td>0.0</td>\n",
       "      <td>0.0</td>\n",
       "      <td>1.95</td>\n",
       "      <td>0.0</td>\n",
       "      <td>NaN</td>\n",
       "      <td>0.0</td>\n",
       "      <td>9.75</td>\n",
       "      <td>1</td>\n",
       "      <td>2.0</td>\n",
       "    </tr>\n",
       "    <tr>\n",
       "      <th>1</th>\n",
       "      <td>2</td>\n",
       "      <td>2015-09-01 00:04:20</td>\n",
       "      <td>2015-09-01 00:04:24</td>\n",
       "      <td>N</td>\n",
       "      <td>5</td>\n",
       "      <td>-74.010796</td>\n",
       "      <td>40.912216</td>\n",
       "      <td>-74.010780</td>\n",
       "      <td>40.912212</td>\n",
       "      <td>1</td>\n",
       "      <td>...</td>\n",
       "      <td>45.0</td>\n",
       "      <td>0.0</td>\n",
       "      <td>0.0</td>\n",
       "      <td>0.00</td>\n",
       "      <td>0.0</td>\n",
       "      <td>NaN</td>\n",
       "      <td>0.0</td>\n",
       "      <td>45.00</td>\n",
       "      <td>1</td>\n",
       "      <td>2.0</td>\n",
       "    </tr>\n",
       "    <tr>\n",
       "      <th>2</th>\n",
       "      <td>2</td>\n",
       "      <td>2015-09-01 00:01:50</td>\n",
       "      <td>2015-09-01 00:04:24</td>\n",
       "      <td>N</td>\n",
       "      <td>1</td>\n",
       "      <td>-73.921410</td>\n",
       "      <td>40.766708</td>\n",
       "      <td>-73.914413</td>\n",
       "      <td>40.764687</td>\n",
       "      <td>1</td>\n",
       "      <td>...</td>\n",
       "      <td>4.0</td>\n",
       "      <td>0.5</td>\n",
       "      <td>0.5</td>\n",
       "      <td>0.50</td>\n",
       "      <td>0.0</td>\n",
       "      <td>NaN</td>\n",
       "      <td>0.3</td>\n",
       "      <td>5.80</td>\n",
       "      <td>1</td>\n",
       "      <td>1.0</td>\n",
       "    </tr>\n",
       "    <tr>\n",
       "      <th>3</th>\n",
       "      <td>2</td>\n",
       "      <td>2015-09-01 00:02:36</td>\n",
       "      <td>2015-09-01 00:06:42</td>\n",
       "      <td>N</td>\n",
       "      <td>1</td>\n",
       "      <td>-73.921387</td>\n",
       "      <td>40.766678</td>\n",
       "      <td>-73.931427</td>\n",
       "      <td>40.771584</td>\n",
       "      <td>1</td>\n",
       "      <td>...</td>\n",
       "      <td>5.0</td>\n",
       "      <td>0.5</td>\n",
       "      <td>0.5</td>\n",
       "      <td>0.00</td>\n",
       "      <td>0.0</td>\n",
       "      <td>NaN</td>\n",
       "      <td>0.3</td>\n",
       "      <td>6.30</td>\n",
       "      <td>2</td>\n",
       "      <td>1.0</td>\n",
       "    </tr>\n",
       "    <tr>\n",
       "      <th>4</th>\n",
       "      <td>2</td>\n",
       "      <td>2015-09-01 00:00:14</td>\n",
       "      <td>2015-09-01 00:04:20</td>\n",
       "      <td>N</td>\n",
       "      <td>1</td>\n",
       "      <td>-73.955482</td>\n",
       "      <td>40.714046</td>\n",
       "      <td>-73.944412</td>\n",
       "      <td>40.714729</td>\n",
       "      <td>1</td>\n",
       "      <td>...</td>\n",
       "      <td>5.0</td>\n",
       "      <td>0.5</td>\n",
       "      <td>0.5</td>\n",
       "      <td>0.00</td>\n",
       "      <td>0.0</td>\n",
       "      <td>NaN</td>\n",
       "      <td>0.3</td>\n",
       "      <td>6.30</td>\n",
       "      <td>2</td>\n",
       "      <td>1.0</td>\n",
       "    </tr>\n",
       "  </tbody>\n",
       "</table>\n",
       "<p>5 rows × 21 columns</p>\n",
       "</div>"
      ],
      "text/plain": [
       "   VendorID lpep_pickup_datetime Lpep_dropoff_datetime Store_and_fwd_flag  \\\n",
       "0         2  2015-09-01 00:02:34   2015-09-01 00:02:38                  N   \n",
       "1         2  2015-09-01 00:04:20   2015-09-01 00:04:24                  N   \n",
       "2         2  2015-09-01 00:01:50   2015-09-01 00:04:24                  N   \n",
       "3         2  2015-09-01 00:02:36   2015-09-01 00:06:42                  N   \n",
       "4         2  2015-09-01 00:00:14   2015-09-01 00:04:20                  N   \n",
       "\n",
       "   RateCodeID  Pickup_longitude  Pickup_latitude  Dropoff_longitude  \\\n",
       "0           5        -73.979485        40.684956         -73.979431   \n",
       "1           5        -74.010796        40.912216         -74.010780   \n",
       "2           1        -73.921410        40.766708         -73.914413   \n",
       "3           1        -73.921387        40.766678         -73.931427   \n",
       "4           1        -73.955482        40.714046         -73.944412   \n",
       "\n",
       "   Dropoff_latitude  Passenger_count     ...      Fare_amount  Extra  MTA_tax  \\\n",
       "0         40.685020                1     ...              7.8    0.0      0.0   \n",
       "1         40.912212                1     ...             45.0    0.0      0.0   \n",
       "2         40.764687                1     ...              4.0    0.5      0.5   \n",
       "3         40.771584                1     ...              5.0    0.5      0.5   \n",
       "4         40.714729                1     ...              5.0    0.5      0.5   \n",
       "\n",
       "   Tip_amount  Tolls_amount  Ehail_fee  improvement_surcharge  Total_amount  \\\n",
       "0        1.95           0.0        NaN                    0.0          9.75   \n",
       "1        0.00           0.0        NaN                    0.0         45.00   \n",
       "2        0.50           0.0        NaN                    0.3          5.80   \n",
       "3        0.00           0.0        NaN                    0.3          6.30   \n",
       "4        0.00           0.0        NaN                    0.3          6.30   \n",
       "\n",
       "   Payment_type  Trip_type   \n",
       "0             1         2.0  \n",
       "1             1         2.0  \n",
       "2             1         1.0  \n",
       "3             2         1.0  \n",
       "4             2         1.0  \n",
       "\n",
       "[5 rows x 21 columns]"
      ]
     },
     "execution_count": 4,
     "metadata": {},
     "output_type": "execute_result"
    }
   ],
   "source": [
    "trip_data=pd.read_csv('https://s3.amazonaws.com/nyc-tlc/trip+data/green_tripdata_2015-09.csv')\n",
    "trip_data.head()"
   ]
  },
  {
   "cell_type": "markdown",
   "metadata": {},
   "source": [
    "#### Reporting number of rows and columns loaded"
   ]
  },
  {
   "cell_type": "code",
   "execution_count": 308,
   "metadata": {},
   "outputs": [
    {
     "name": "stdout",
     "output_type": "stream",
     "text": [
      "(1494926, 21)\n",
      "Number of rows loaded:  1494926\n",
      "Number of columns loaded:  21\n"
     ]
    }
   ],
   "source": [
    "print(trip_data.shape)\n",
    "print(\"Number of rows loaded: \",trip_data.shape[0])\n",
    "print(\"Number of columns loaded: \",trip_data.shape[1])"
   ]
  },
  {
   "cell_type": "code",
   "execution_count": 9,
   "metadata": {},
   "outputs": [
    {
     "name": "stdout",
     "output_type": "stream",
     "text": [
      "<class 'pandas.core.frame.DataFrame'>\n",
      "RangeIndex: 1494926 entries, 0 to 1494925\n",
      "Data columns (total 21 columns):\n",
      "VendorID                 1494926 non-null int64\n",
      "lpep_pickup_datetime     1494926 non-null object\n",
      "Lpep_dropoff_datetime    1494926 non-null object\n",
      "Store_and_fwd_flag       1494926 non-null object\n",
      "RateCodeID               1494926 non-null int64\n",
      "Pickup_longitude         1494926 non-null float64\n",
      "Pickup_latitude          1494926 non-null float64\n",
      "Dropoff_longitude        1494926 non-null float64\n",
      "Dropoff_latitude         1494926 non-null float64\n",
      "Passenger_count          1494926 non-null int64\n",
      "Trip_distance            1494926 non-null float64\n",
      "Fare_amount              1494926 non-null float64\n",
      "Extra                    1494926 non-null float64\n",
      "MTA_tax                  1494926 non-null float64\n",
      "Tip_amount               1494926 non-null float64\n",
      "Tolls_amount             1494926 non-null float64\n",
      "Ehail_fee                0 non-null float64\n",
      "improvement_surcharge    1494926 non-null float64\n",
      "Total_amount             1494926 non-null float64\n",
      "Payment_type             1494926 non-null int64\n",
      "Trip_type                1494922 non-null float64\n",
      "dtypes: float64(14), int64(4), object(3)\n",
      "memory usage: 239.5+ MB\n"
     ]
    }
   ],
   "source": [
    "trip_data.info()"
   ]
  },
  {
   "cell_type": "code",
   "execution_count": 310,
   "metadata": {},
   "outputs": [
    {
     "data": {
      "text/plain": [
       "count    1.494926e+06\n",
       "mean     2.968141e+00\n",
       "std      3.076621e+00\n",
       "min      0.000000e+00\n",
       "25%      1.100000e+00\n",
       "50%      1.980000e+00\n",
       "75%      3.740000e+00\n",
       "max      6.031000e+02\n",
       "Name: Trip_distance, dtype: float64"
      ]
     },
     "execution_count": 310,
     "metadata": {},
     "output_type": "execute_result"
    }
   ],
   "source": [
    "trip_data.describe()['Trip_distance']"
   ]
  },
  {
   "cell_type": "code",
   "execution_count": 8,
   "metadata": {},
   "outputs": [
    {
     "data": {
      "text/plain": [
       "Text(0.5,1,'Histogram of the number of Trip Distance(Without Tranformation)')"
      ]
     },
     "execution_count": 8,
     "metadata": {},
     "output_type": "execute_result"
    },
    {
     "data": {
      "image/png": "[encoded data removed]",
      "text/plain": [
       "<Figure size 864x288 with 1 Axes>"
      ]
     },
     "metadata": {},
     "output_type": "display_data"
    }
   ],
   "source": [
    "sns.set()\n",
    "plt.style.use('seaborn-white')\n",
    "trip_data['Trip_distance'].hist(bins=200,edgecolor='black',figsize=(12,4))\n",
    "plt.xlabel('Trip Distance(in miles)')\n",
    "plt.ylabel('Frequency')\n",
    "plt.title('Histogram of the number of Trip Distance(Without Tranformation)')"
   ]
  },
  {
   "cell_type": "markdown",
   "metadata": {},
   "source": [
    "#### Plotting the histogram of Trip_distance we observe that the data is highly skewed.  Taking log transformation will make our skewed data conform to normality"
   ]
  },
  {
   "cell_type": "code",
   "execution_count": 313,
   "metadata": {},
   "outputs": [
    {
     "data": {
      "image/png": "[encoded data removed]",
      "text/plain": [
       "<Figure size 864x288 with 1 Axes>"
      ]
     },
     "metadata": {},
     "output_type": "display_data"
    }
   ],
   "source": [
    "sns.set()\n",
    "plt.yscale('log')\n",
    "trip_data['Trip_distance'].hist(bins=30,color='green',edgecolor='black',figsize=(12,4))\n",
    "plt.xlabel('Trip Distance(in miles)')\n",
    "plt.ylabel('Log Transformed')\n",
    "plt.title('Histogram of the number of Trip Distance(With Log Tranformation)')\n",
    "plt.show()"
   ]
  },
  {
   "cell_type": "markdown",
   "metadata": {},
   "source": [
    "#### We observe that the log(Trip_distance) is skewed to the right. Most people travel 0-150 miles. However there are a few outliers who have travelled 250-280 miles and about 600 miles. To confirm the findings, Univariate Analysis using boxplots has been conducted."
   ]
  },
  {
   "cell_type": "code",
   "execution_count": 314,
   "metadata": {
    "scrolled": false
   },
   "outputs": [
    {
     "data": {
      "image/png": "[encoded data removed]",
      "text/plain": [
       "<Figure size 864x288 with 1 Axes>"
      ]
     },
     "metadata": {},
     "output_type": "display_data"
    }
   ],
   "source": [
    "sns.set()\n",
    "plt.figure(figsize=(12,4))\n",
    "sns.boxplot(x=np.log(trip_data.Trip_distance))\n",
    "plt.show()"
   ]
  },
  {
   "cell_type": "markdown",
   "metadata": {},
   "source": [
    "##### We use the Z score to describe our data points by finding the relationship with their standard deviation and mean of the group of points. While calculating the Z-score we re-scale(The mean is 0 and standard deviation is 1) and center the data and look for data points which are too far from zero. These data points which are way too far from zero will be treated as the outliers. Zscore doesn't tell us which data point is an outlier. So we define a threshold of 3 to identify outliers."
   ]
  },
  {
   "cell_type": "code",
   "execution_count": 315,
   "metadata": {},
   "outputs": [
    {
     "name": "stdout",
     "output_type": "stream",
     "text": [
      "Number of outliers removed: 29192\n"
     ]
    }
   ],
   "source": [
    "z=np.abs(stats.zscore(trip_data.Trip_distance))\n",
    "threshold=3\n",
    "trip_data_wo=trip_data[(z<3)]\n",
    "print('Number of outliers removed:',trip_data.shape[0]-trip_data_wo.shape[0])"
   ]
  },
  {
   "cell_type": "markdown",
   "metadata": {},
   "source": [
    "##### After removing the outliers, right skewed distibution due to lower bound of 0 on the Trip_distance has been obtained. We observe that most rides are short rides with most of them bein 1-2 miles long."
   ]
  },
  {
   "cell_type": "code",
   "execution_count": 317,
   "metadata": {},
   "outputs": [
    {
     "data": {
      "image/png": "[encoded data removed]",
      "text/plain": [
       "<Figure size 864x288 with 1 Axes>"
      ]
     },
     "metadata": {},
     "output_type": "display_data"
    }
   ],
   "source": [
    "sns.set()\n",
    "plt.figure(figsize=(12,4))\n",
    "ax=sns.distplot(trip_data_wo['Trip_distance'], hist=True, kde=True, \n",
    "             bins=20, color = 'darkblue', \n",
    "             hist_kws={'edgecolor':'black'},\n",
    "             kde_kws={'linewidth': 4})\n",
    "ax.set_xlabel('Trip Distance (in miles)')\n",
    "ax.set_ylabel('Frequency')\n",
    "ax.set_title('Histogram of distribution of Trip Distance(Without Outliers)')\n",
    "plt.show()"
   ]
  },
  {
   "cell_type": "code",
   "execution_count": 318,
   "metadata": {},
   "outputs": [
    {
     "data": {
      "text/html": [
       "<div>\n",
       "<style scoped>\n",
       "    .dataframe tbody tr th:only-of-type {\n",
       "        vertical-align: middle;\n",
       "    }\n",
       "\n",
       "    .dataframe tbody tr th {\n",
       "        vertical-align: top;\n",
       "    }\n",
       "\n",
       "    .dataframe thead th {\n",
       "        text-align: right;\n",
       "    }\n",
       "</style>\n",
       "<table border=\"1\" class=\"dataframe\">\n",
       "  <thead>\n",
       "    <tr style=\"text-align: right;\">\n",
       "      <th></th>\n",
       "      <th>Mean</th>\n",
       "      <th>Median</th>\n",
       "    </tr>\n",
       "    <tr>\n",
       "      <th>Pickup Hour</th>\n",
       "      <th></th>\n",
       "      <th></th>\n",
       "    </tr>\n",
       "  </thead>\n",
       "  <tbody>\n",
       "    <tr>\n",
       "      <th>0</th>\n",
       "      <td>3.115276</td>\n",
       "      <td>2.20</td>\n",
       "    </tr>\n",
       "    <tr>\n",
       "      <th>1</th>\n",
       "      <td>3.017347</td>\n",
       "      <td>2.12</td>\n",
       "    </tr>\n",
       "    <tr>\n",
       "      <th>2</th>\n",
       "      <td>3.046176</td>\n",
       "      <td>2.14</td>\n",
       "    </tr>\n",
       "    <tr>\n",
       "      <th>3</th>\n",
       "      <td>3.212945</td>\n",
       "      <td>2.20</td>\n",
       "    </tr>\n",
       "    <tr>\n",
       "      <th>4</th>\n",
       "      <td>3.526555</td>\n",
       "      <td>2.36</td>\n",
       "    </tr>\n",
       "    <tr>\n",
       "      <th>5</th>\n",
       "      <td>4.133474</td>\n",
       "      <td>2.90</td>\n",
       "    </tr>\n",
       "    <tr>\n",
       "      <th>6</th>\n",
       "      <td>4.055149</td>\n",
       "      <td>2.84</td>\n",
       "    </tr>\n",
       "    <tr>\n",
       "      <th>7</th>\n",
       "      <td>3.284394</td>\n",
       "      <td>2.17</td>\n",
       "    </tr>\n",
       "    <tr>\n",
       "      <th>8</th>\n",
       "      <td>3.048450</td>\n",
       "      <td>1.98</td>\n",
       "    </tr>\n",
       "    <tr>\n",
       "      <th>9</th>\n",
       "      <td>2.999105</td>\n",
       "      <td>1.96</td>\n",
       "    </tr>\n",
       "    <tr>\n",
       "      <th>10</th>\n",
       "      <td>2.944482</td>\n",
       "      <td>1.92</td>\n",
       "    </tr>\n",
       "    <tr>\n",
       "      <th>11</th>\n",
       "      <td>2.912015</td>\n",
       "      <td>1.88</td>\n",
       "    </tr>\n",
       "    <tr>\n",
       "      <th>12</th>\n",
       "      <td>2.903065</td>\n",
       "      <td>1.89</td>\n",
       "    </tr>\n",
       "    <tr>\n",
       "      <th>13</th>\n",
       "      <td>2.878294</td>\n",
       "      <td>1.84</td>\n",
       "    </tr>\n",
       "    <tr>\n",
       "      <th>14</th>\n",
       "      <td>2.864304</td>\n",
       "      <td>1.83</td>\n",
       "    </tr>\n",
       "    <tr>\n",
       "      <th>15</th>\n",
       "      <td>2.857040</td>\n",
       "      <td>1.81</td>\n",
       "    </tr>\n",
       "    <tr>\n",
       "      <th>16</th>\n",
       "      <td>2.779852</td>\n",
       "      <td>1.80</td>\n",
       "    </tr>\n",
       "    <tr>\n",
       "      <th>17</th>\n",
       "      <td>2.679114</td>\n",
       "      <td>1.78</td>\n",
       "    </tr>\n",
       "    <tr>\n",
       "      <th>18</th>\n",
       "      <td>2.653222</td>\n",
       "      <td>1.80</td>\n",
       "    </tr>\n",
       "    <tr>\n",
       "      <th>19</th>\n",
       "      <td>2.715597</td>\n",
       "      <td>1.85</td>\n",
       "    </tr>\n",
       "    <tr>\n",
       "      <th>20</th>\n",
       "      <td>2.777052</td>\n",
       "      <td>1.90</td>\n",
       "    </tr>\n",
       "    <tr>\n",
       "      <th>21</th>\n",
       "      <td>2.999189</td>\n",
       "      <td>2.03</td>\n",
       "    </tr>\n",
       "    <tr>\n",
       "      <th>22</th>\n",
       "      <td>3.185394</td>\n",
       "      <td>2.20</td>\n",
       "    </tr>\n",
       "    <tr>\n",
       "      <th>23</th>\n",
       "      <td>3.191538</td>\n",
       "      <td>2.22</td>\n",
       "    </tr>\n",
       "  </tbody>\n",
       "</table>\n",
       "</div>"
      ],
      "text/plain": [
       "                 Mean  Median\n",
       "Pickup Hour                  \n",
       "0            3.115276    2.20\n",
       "1            3.017347    2.12\n",
       "2            3.046176    2.14\n",
       "3            3.212945    2.20\n",
       "4            3.526555    2.36\n",
       "5            4.133474    2.90\n",
       "6            4.055149    2.84\n",
       "7            3.284394    2.17\n",
       "8            3.048450    1.98\n",
       "9            2.999105    1.96\n",
       "10           2.944482    1.92\n",
       "11           2.912015    1.88\n",
       "12           2.903065    1.89\n",
       "13           2.878294    1.84\n",
       "14           2.864304    1.83\n",
       "15           2.857040    1.81\n",
       "16           2.779852    1.80\n",
       "17           2.679114    1.78\n",
       "18           2.653222    1.80\n",
       "19           2.715597    1.85\n",
       "20           2.777052    1.90\n",
       "21           2.999189    2.03\n",
       "22           3.185394    2.20\n",
       "23           3.191538    2.22"
      ]
     },
     "execution_count": 318,
     "metadata": {},
     "output_type": "execute_result"
    }
   ],
   "source": [
    "pickup_list=trip_data['lpep_pickup_datetime']\n",
    "trip_data['Pickup_Hour']=trip_data['lpep_pickup_datetime'].apply(lambda t:pd.to_datetime(t).hour)\n",
    "Mean_Pickup_Hour=trip_data.groupby('Pickup_Hour')['Trip_distance'].mean()\n",
    "Median_Pickup_Hour=trip_data.groupby('Pickup_Hour')['Trip_distance'].median()\n",
    "report=pd.DataFrame({'Pickup Hour':trip_data['Pickup_Hour'].unique(),'Mean':Mean_Pickup_Hour,'Median':Median_Pickup_Hour})\n",
    "report.set_index('Pickup Hour',inplace=True)\n",
    "report"
   ]
  },
  {
   "cell_type": "markdown",
   "metadata": {},
   "source": [
    "#### It is observed that between 5 AM to 6 AM larger distances are travelled as compared to other hours of day"
   ]
  },
  {
   "cell_type": "code",
   "execution_count": 319,
   "metadata": {},
   "outputs": [
    {
     "data": {
      "image/png": "[encoded data removed]",
      "text/plain": [
       "<Figure size 864x288 with 1 Axes>"
      ]
     },
     "metadata": {},
     "output_type": "display_data"
    }
   ],
   "source": [
    "%matplotlib inline\n",
    "sns.set()\n",
    "plt.figure(figsize=(12,4))\n",
    "plt.plot(trip_data['Pickup_Hour'].unique(),Mean_Pickup_Hour,'-g',label='Mean Trip distance')\n",
    "plt.plot(trip_data['Pickup_Hour'].unique(),Median_Pickup_Hour,':r',label='Median Trip Distance')\n",
    "plt.xlabel('Hour of the Day')\n",
    "plt.ylabel('Trip distance (in miles)')\n",
    "plt.xticks(np.arange(0,24,step=1))\n",
    "plt.title('Trip Distance grouped by Hour of Day')\n",
    "plt.legend()\n",
    "plt.show()"
   ]
  },
  {
   "cell_type": "markdown",
   "metadata": {},
   "source": [
    "#### Using the haversine-formula to calculate distance in miles between 2 points"
   ]
  },
  {
   "cell_type": "code",
   "execution_count": 320,
   "metadata": {},
   "outputs": [],
   "source": [
    "def distance(lat1, lon1, lat2, lon2):\n",
    "    p = 0.017453292519943295 \n",
    "    a = 0.5 - np.cos((lat2 - lat1) * p)/2 + np.cos(lat1 * p) * np.cos(lat2 * p) * (1 - np.cos((lon2 - lon1) * p)) / 2\n",
    "    return 0.6213712 * 12742 * np.arcsin(np.sqrt(a))"
   ]
  },
  {
   "cell_type": "markdown",
   "metadata": {},
   "source": [
    "#### The function airport_location is used to check trips that originate/terminate from within 1 mile of Newyork airports. The range parameter can be changed as per requirement"
   ]
  },
  {
   "cell_type": "code",
   "execution_count": 321,
   "metadata": {},
   "outputs": [
    {
     "name": "stdout",
     "output_type": "stream",
     "text": [
      "Number of trips that originate/terminate at JFK/NYC airports are:  13647\n",
      "The average fare of trips that originate/terminate at JFK/NYC airports is:  51.23473290833322\n"
     ]
    }
   ],
   "source": [
    "jfk = (-73.7781391, 40.6413111)\n",
    "nyc = (-74.1744624, 40.6895314)\n",
    "\n",
    "airport_trips=[]\n",
    "def airport_location(loc,range=1):\n",
    "    #Selecting all data points with pick up/drop off location within range of 1 mile from airport.\n",
    "    for index,row in trip_data.iterrows():\n",
    "        if((distance(row['Pickup_latitude'],row['Pickup_longitude'],loc[1],loc[0])<range)\n",
    "           |(distance(row['Dropoff_latitude'],row['Dropoff_longitude'],loc[1],loc[0])<range)):\n",
    "            airport_trips.append(row)\n",
    "            \n",
    "            \n",
    "\n",
    "airport_location(jfk)\n",
    "airport_location(nyc)\n",
    "air=pd.DataFrame(airport_trips)\n",
    "\n",
    "print('Number of trips that originate/terminate at JFK/NYC airports are: ',air.shape[0])\n",
    "print('The average fare of trips that originate/terminate at JFK/NYC airports is: ',air['Total_amount'].mean())"
   ]
  },
  {
   "cell_type": "markdown",
   "metadata": {},
   "source": [
    "#### Some characteristics about the Airport Trips: From data dictionary, we can observe that RateCodeID is the rate code in effect at the end of the trip.JFK and Newark airports have RateCodeID 2 and 3 respectively. This can also be used to find trips that originate or terminate at airport. The mean trip_distance and Total_amount has been calculated for each hour of day for airport trips."
   ]
  },
  {
   "cell_type": "code",
   "execution_count": 322,
   "metadata": {},
   "outputs": [
    {
     "data": {
      "text/html": [
       "<div>\n",
       "<style scoped>\n",
       "    .dataframe tbody tr th:only-of-type {\n",
       "        vertical-align: middle;\n",
       "    }\n",
       "\n",
       "    .dataframe tbody tr th {\n",
       "        vertical-align: top;\n",
       "    }\n",
       "\n",
       "    .dataframe thead th {\n",
       "        text-align: right;\n",
       "    }\n",
       "</style>\n",
       "<table border=\"1\" class=\"dataframe\">\n",
       "  <thead>\n",
       "    <tr style=\"text-align: right;\">\n",
       "      <th></th>\n",
       "      <th>Pickup_Hour</th>\n",
       "      <th>Trip_distance</th>\n",
       "      <th>Total_amount</th>\n",
       "    </tr>\n",
       "  </thead>\n",
       "  <tbody>\n",
       "    <tr>\n",
       "      <th>0</th>\n",
       "      <td>0</td>\n",
       "      <td>1.777941</td>\n",
       "      <td>44.550000</td>\n",
       "    </tr>\n",
       "    <tr>\n",
       "      <th>1</th>\n",
       "      <td>1</td>\n",
       "      <td>2.401481</td>\n",
       "      <td>38.122840</td>\n",
       "    </tr>\n",
       "    <tr>\n",
       "      <th>2</th>\n",
       "      <td>2</td>\n",
       "      <td>3.909104</td>\n",
       "      <td>46.665821</td>\n",
       "    </tr>\n",
       "    <tr>\n",
       "      <th>3</th>\n",
       "      <td>3</td>\n",
       "      <td>9.142353</td>\n",
       "      <td>55.993294</td>\n",
       "    </tr>\n",
       "    <tr>\n",
       "      <th>4</th>\n",
       "      <td>4</td>\n",
       "      <td>11.449433</td>\n",
       "      <td>56.266950</td>\n",
       "    </tr>\n",
       "    <tr>\n",
       "      <th>5</th>\n",
       "      <td>5</td>\n",
       "      <td>14.875976</td>\n",
       "      <td>63.720427</td>\n",
       "    </tr>\n",
       "    <tr>\n",
       "      <th>6</th>\n",
       "      <td>6</td>\n",
       "      <td>14.902872</td>\n",
       "      <td>63.825282</td>\n",
       "    </tr>\n",
       "    <tr>\n",
       "      <th>7</th>\n",
       "      <td>7</td>\n",
       "      <td>12.712581</td>\n",
       "      <td>60.500737</td>\n",
       "    </tr>\n",
       "    <tr>\n",
       "      <th>8</th>\n",
       "      <td>8</td>\n",
       "      <td>13.070323</td>\n",
       "      <td>62.088347</td>\n",
       "    </tr>\n",
       "    <tr>\n",
       "      <th>9</th>\n",
       "      <td>9</td>\n",
       "      <td>10.530510</td>\n",
       "      <td>57.141294</td>\n",
       "    </tr>\n",
       "    <tr>\n",
       "      <th>10</th>\n",
       "      <td>10</td>\n",
       "      <td>10.572691</td>\n",
       "      <td>56.417229</td>\n",
       "    </tr>\n",
       "    <tr>\n",
       "      <th>11</th>\n",
       "      <td>11</td>\n",
       "      <td>10.972836</td>\n",
       "      <td>56.342463</td>\n",
       "    </tr>\n",
       "    <tr>\n",
       "      <th>12</th>\n",
       "      <td>12</td>\n",
       "      <td>10.795623</td>\n",
       "      <td>55.338653</td>\n",
       "    </tr>\n",
       "    <tr>\n",
       "      <th>13</th>\n",
       "      <td>13</td>\n",
       "      <td>10.879604</td>\n",
       "      <td>57.465116</td>\n",
       "    </tr>\n",
       "    <tr>\n",
       "      <th>14</th>\n",
       "      <td>14</td>\n",
       "      <td>12.822873</td>\n",
       "      <td>62.749350</td>\n",
       "    </tr>\n",
       "    <tr>\n",
       "      <th>15</th>\n",
       "      <td>15</td>\n",
       "      <td>14.012348</td>\n",
       "      <td>64.485327</td>\n",
       "    </tr>\n",
       "    <tr>\n",
       "      <th>16</th>\n",
       "      <td>16</td>\n",
       "      <td>12.465917</td>\n",
       "      <td>60.870073</td>\n",
       "    </tr>\n",
       "    <tr>\n",
       "      <th>17</th>\n",
       "      <td>17</td>\n",
       "      <td>10.787507</td>\n",
       "      <td>57.855679</td>\n",
       "    </tr>\n",
       "    <tr>\n",
       "      <th>18</th>\n",
       "      <td>18</td>\n",
       "      <td>9.719730</td>\n",
       "      <td>54.960150</td>\n",
       "    </tr>\n",
       "    <tr>\n",
       "      <th>19</th>\n",
       "      <td>19</td>\n",
       "      <td>8.087473</td>\n",
       "      <td>54.064066</td>\n",
       "    </tr>\n",
       "    <tr>\n",
       "      <th>20</th>\n",
       "      <td>20</td>\n",
       "      <td>6.830457</td>\n",
       "      <td>50.715297</td>\n",
       "    </tr>\n",
       "    <tr>\n",
       "      <th>21</th>\n",
       "      <td>21</td>\n",
       "      <td>4.877000</td>\n",
       "      <td>51.468500</td>\n",
       "    </tr>\n",
       "    <tr>\n",
       "      <th>22</th>\n",
       "      <td>22</td>\n",
       "      <td>3.343245</td>\n",
       "      <td>51.552848</td>\n",
       "    </tr>\n",
       "    <tr>\n",
       "      <th>23</th>\n",
       "      <td>23</td>\n",
       "      <td>2.010802</td>\n",
       "      <td>46.234444</td>\n",
       "    </tr>\n",
       "  </tbody>\n",
       "</table>\n",
       "</div>"
      ],
      "text/plain": [
       "    Pickup_Hour  Trip_distance  Total_amount\n",
       "0             0       1.777941     44.550000\n",
       "1             1       2.401481     38.122840\n",
       "2             2       3.909104     46.665821\n",
       "3             3       9.142353     55.993294\n",
       "4             4      11.449433     56.266950\n",
       "5             5      14.875976     63.720427\n",
       "6             6      14.902872     63.825282\n",
       "7             7      12.712581     60.500737\n",
       "8             8      13.070323     62.088347\n",
       "9             9      10.530510     57.141294\n",
       "10           10      10.572691     56.417229\n",
       "11           11      10.972836     56.342463\n",
       "12           12      10.795623     55.338653\n",
       "13           13      10.879604     57.465116\n",
       "14           14      12.822873     62.749350\n",
       "15           15      14.012348     64.485327\n",
       "16           16      12.465917     60.870073\n",
       "17           17      10.787507     57.855679\n",
       "18           18       9.719730     54.960150\n",
       "19           19       8.087473     54.064066\n",
       "20           20       6.830457     50.715297\n",
       "21           21       4.877000     51.468500\n",
       "22           22       3.343245     51.552848\n",
       "23           23       2.010802     46.234444"
      ]
     },
     "execution_count": 322,
     "metadata": {},
     "output_type": "execute_result"
    }
   ],
   "source": [
    "airport_trip=trip_data[(trip_data['RateCodeID']==2)|(trip_data['RateCodeID']==3)]\n",
    "airport_data=airport_trip[['Pickup_Hour','Trip_distance','Total_amount']]\n",
    "airport_data=airport_data.groupby('Pickup_Hour',as_index=False)\n",
    "airport_data=airport_data.aggregate(np.mean)\n",
    "airport_data"
   ]
  },
  {
   "cell_type": "markdown",
   "metadata": {},
   "source": [
    "#### From these plots, 2 interesting observations can be made: 1) Most airport trips are made between 4-5 in the morning and 2-4 in the afternoon.  2)The total amount earned does not vary as drastically with hour of the day, as it does in case of distance. This could imply that there is a certain FIXED CHARGE for airport trips."
   ]
  },
  {
   "cell_type": "code",
   "execution_count": 350,
   "metadata": {},
   "outputs": [
    {
     "data": {
      "image/png": "[encoded data removed]",
      "text/plain": [
       "<Figure size 1080x288 with 2 Axes>"
      ]
     },
     "metadata": {},
     "output_type": "display_data"
    }
   ],
   "source": [
    "plt.figure(figsize=(15,4))\n",
    "plt.subplot(1,2,1)\n",
    "sns.barplot(x='Pickup_Hour', y='Trip_distance', data=airport_data)\n",
    "plt.subplot(1,2,2)\n",
    "sns.barplot(x='Pickup_Hour', y='Total_amount', data=airport_data)\n",
    "plt.show()"
   ]
  },
  {
   "cell_type": "markdown",
   "metadata": {},
   "source": [
    "#### Plotting mean of distance grouped by day of week, it is observed that there is a drastic decrease in distance covered from Monday to Tuesday, one of the reasons could be that people make airport visits during weekends and return back home usually on Monday. Also, the fare for these trips is the maximum."
   ]
  },
  {
   "cell_type": "code",
   "execution_count": 328,
   "metadata": {},
   "outputs": [
    {
     "data": {
      "text/html": [
       "<div>\n",
       "<style scoped>\n",
       "    .dataframe tbody tr th:only-of-type {\n",
       "        vertical-align: middle;\n",
       "    }\n",
       "\n",
       "    .dataframe tbody tr th {\n",
       "        vertical-align: top;\n",
       "    }\n",
       "\n",
       "    .dataframe thead th {\n",
       "        text-align: right;\n",
       "    }\n",
       "</style>\n",
       "<table border=\"1\" class=\"dataframe\">\n",
       "  <thead>\n",
       "    <tr style=\"text-align: right;\">\n",
       "      <th></th>\n",
       "      <th>Day_of_Week</th>\n",
       "      <th>Trip_distance</th>\n",
       "      <th>Total_amount</th>\n",
       "    </tr>\n",
       "  </thead>\n",
       "  <tbody>\n",
       "    <tr>\n",
       "      <th>0</th>\n",
       "      <td>0</td>\n",
       "      <td>11.437840</td>\n",
       "      <td>59.991802</td>\n",
       "    </tr>\n",
       "    <tr>\n",
       "      <th>1</th>\n",
       "      <td>1</td>\n",
       "      <td>10.221351</td>\n",
       "      <td>56.501686</td>\n",
       "    </tr>\n",
       "    <tr>\n",
       "      <th>2</th>\n",
       "      <td>2</td>\n",
       "      <td>10.318535</td>\n",
       "      <td>56.852326</td>\n",
       "    </tr>\n",
       "    <tr>\n",
       "      <th>3</th>\n",
       "      <td>3</td>\n",
       "      <td>10.688663</td>\n",
       "      <td>57.849763</td>\n",
       "    </tr>\n",
       "    <tr>\n",
       "      <th>4</th>\n",
       "      <td>4</td>\n",
       "      <td>10.361648</td>\n",
       "      <td>56.967398</td>\n",
       "    </tr>\n",
       "    <tr>\n",
       "      <th>5</th>\n",
       "      <td>5</td>\n",
       "      <td>9.997817</td>\n",
       "      <td>56.756655</td>\n",
       "    </tr>\n",
       "    <tr>\n",
       "      <th>6</th>\n",
       "      <td>6</td>\n",
       "      <td>9.725813</td>\n",
       "      <td>55.810556</td>\n",
       "    </tr>\n",
       "  </tbody>\n",
       "</table>\n",
       "</div>"
      ],
      "text/plain": [
       "   Day_of_Week  Trip_distance  Total_amount\n",
       "0            0      11.437840     59.991802\n",
       "1            1      10.221351     56.501686\n",
       "2            2      10.318535     56.852326\n",
       "3            3      10.688663     57.849763\n",
       "4            4      10.361648     56.967398\n",
       "5            5       9.997817     56.756655\n",
       "6            6       9.725813     55.810556"
      ]
     },
     "execution_count": 328,
     "metadata": {},
     "output_type": "execute_result"
    }
   ],
   "source": [
    "#0-Monday, 1-Tuesday, 2-Wednesday,3-Thursday,4-Friday,5-Saturday,6-Sunday\n",
    "trip_data['Day_of_Week']=trip_data['lpep_pickup_datetime'].apply(lambda t:(pd.to_datetime(t).day)%7)\n",
    "air_day=trip_data[(trip_data['RateCodeID']==2)|(trip_data['RateCodeID']==3)]\n",
    "air_day=air_day[['Day_of_Week','Trip_distance','Total_amount']]\n",
    "air_day=air_day.groupby('Day_of_Week',as_index=False)\n",
    "air_day=air_day.aggregate(np.mean)\n",
    "air_day"
   ]
  },
  {
   "cell_type": "code",
   "execution_count": 329,
   "metadata": {},
   "outputs": [
    {
     "data": {
      "image/png": "[encoded data removed]",
      "text/plain": [
       "<Figure size 432x288 with 2 Axes>"
      ]
     },
     "metadata": {},
     "output_type": "display_data"
    }
   ],
   "source": [
    "ax = air_day.plot(x=\"Day_of_Week\", y=\"Trip_distance\", legend=False,label='Trip Distance (in miles)')\n",
    "ax.set_ylabel('Trip Distance (in miles)')\n",
    "ax2 = ax.twinx()\n",
    "ax2.set_ylabel('Total Amount')\n",
    "air_day.plot(x=\"Day_of_Week\", y=\"Total_amount\", ax=ax2, legend=False, color=\"g\",label='Total Amount')\n",
    "ax.figure.legend()\n",
    "plt.show()"
   ]
  },
  {
   "cell_type": "markdown",
   "metadata": {},
   "source": [
    "#### Creating a derived variable for tip as a percentage of total fare"
   ]
  },
  {
   "cell_type": "code",
   "execution_count": 330,
   "metadata": {},
   "outputs": [
    {
     "data": {
      "text/html": [
       "<div>\n",
       "<style scoped>\n",
       "    .dataframe tbody tr th:only-of-type {\n",
       "        vertical-align: middle;\n",
       "    }\n",
       "\n",
       "    .dataframe tbody tr th {\n",
       "        vertical-align: top;\n",
       "    }\n",
       "\n",
       "    .dataframe thead th {\n",
       "        text-align: right;\n",
       "    }\n",
       "</style>\n",
       "<table border=\"1\" class=\"dataframe\">\n",
       "  <thead>\n",
       "    <tr style=\"text-align: right;\">\n",
       "      <th></th>\n",
       "      <th>VendorID</th>\n",
       "      <th>lpep_pickup_datetime</th>\n",
       "      <th>Lpep_dropoff_datetime</th>\n",
       "      <th>Store_and_fwd_flag</th>\n",
       "      <th>RateCodeID</th>\n",
       "      <th>Pickup_longitude</th>\n",
       "      <th>Pickup_latitude</th>\n",
       "      <th>Dropoff_longitude</th>\n",
       "      <th>Dropoff_latitude</th>\n",
       "      <th>Passenger_count</th>\n",
       "      <th>...</th>\n",
       "      <th>Tip_amount</th>\n",
       "      <th>Tolls_amount</th>\n",
       "      <th>Ehail_fee</th>\n",
       "      <th>improvement_surcharge</th>\n",
       "      <th>Total_amount</th>\n",
       "      <th>Payment_type</th>\n",
       "      <th>Trip_type</th>\n",
       "      <th>Pickup_Hour</th>\n",
       "      <th>Day_of_Week</th>\n",
       "      <th>Tip_percent</th>\n",
       "    </tr>\n",
       "  </thead>\n",
       "  <tbody>\n",
       "    <tr>\n",
       "      <th>0</th>\n",
       "      <td>2</td>\n",
       "      <td>2015-09-01 00:02:34</td>\n",
       "      <td>2015-09-01 00:02:38</td>\n",
       "      <td>N</td>\n",
       "      <td>5</td>\n",
       "      <td>-73.979485</td>\n",
       "      <td>40.684956</td>\n",
       "      <td>-73.979431</td>\n",
       "      <td>40.685020</td>\n",
       "      <td>1</td>\n",
       "      <td>...</td>\n",
       "      <td>1.95</td>\n",
       "      <td>0.0</td>\n",
       "      <td>NaN</td>\n",
       "      <td>0.0</td>\n",
       "      <td>9.75</td>\n",
       "      <td>1</td>\n",
       "      <td>2.0</td>\n",
       "      <td>0</td>\n",
       "      <td>1</td>\n",
       "      <td>20.00000</td>\n",
       "    </tr>\n",
       "    <tr>\n",
       "      <th>1</th>\n",
       "      <td>2</td>\n",
       "      <td>2015-09-01 00:04:20</td>\n",
       "      <td>2015-09-01 00:04:24</td>\n",
       "      <td>N</td>\n",
       "      <td>5</td>\n",
       "      <td>-74.010796</td>\n",
       "      <td>40.912216</td>\n",
       "      <td>-74.010780</td>\n",
       "      <td>40.912212</td>\n",
       "      <td>1</td>\n",
       "      <td>...</td>\n",
       "      <td>0.00</td>\n",
       "      <td>0.0</td>\n",
       "      <td>NaN</td>\n",
       "      <td>0.0</td>\n",
       "      <td>45.00</td>\n",
       "      <td>1</td>\n",
       "      <td>2.0</td>\n",
       "      <td>0</td>\n",
       "      <td>1</td>\n",
       "      <td>0.00000</td>\n",
       "    </tr>\n",
       "    <tr>\n",
       "      <th>2</th>\n",
       "      <td>2</td>\n",
       "      <td>2015-09-01 00:01:50</td>\n",
       "      <td>2015-09-01 00:04:24</td>\n",
       "      <td>N</td>\n",
       "      <td>1</td>\n",
       "      <td>-73.921410</td>\n",
       "      <td>40.766708</td>\n",
       "      <td>-73.914413</td>\n",
       "      <td>40.764687</td>\n",
       "      <td>1</td>\n",
       "      <td>...</td>\n",
       "      <td>0.50</td>\n",
       "      <td>0.0</td>\n",
       "      <td>NaN</td>\n",
       "      <td>0.3</td>\n",
       "      <td>5.80</td>\n",
       "      <td>1</td>\n",
       "      <td>1.0</td>\n",
       "      <td>0</td>\n",
       "      <td>1</td>\n",
       "      <td>8.62069</td>\n",
       "    </tr>\n",
       "    <tr>\n",
       "      <th>3</th>\n",
       "      <td>2</td>\n",
       "      <td>2015-09-01 00:02:36</td>\n",
       "      <td>2015-09-01 00:06:42</td>\n",
       "      <td>N</td>\n",
       "      <td>1</td>\n",
       "      <td>-73.921387</td>\n",
       "      <td>40.766678</td>\n",
       "      <td>-73.931427</td>\n",
       "      <td>40.771584</td>\n",
       "      <td>1</td>\n",
       "      <td>...</td>\n",
       "      <td>0.00</td>\n",
       "      <td>0.0</td>\n",
       "      <td>NaN</td>\n",
       "      <td>0.3</td>\n",
       "      <td>6.30</td>\n",
       "      <td>2</td>\n",
       "      <td>1.0</td>\n",
       "      <td>0</td>\n",
       "      <td>1</td>\n",
       "      <td>0.00000</td>\n",
       "    </tr>\n",
       "    <tr>\n",
       "      <th>4</th>\n",
       "      <td>2</td>\n",
       "      <td>2015-09-01 00:00:14</td>\n",
       "      <td>2015-09-01 00:04:20</td>\n",
       "      <td>N</td>\n",
       "      <td>1</td>\n",
       "      <td>-73.955482</td>\n",
       "      <td>40.714046</td>\n",
       "      <td>-73.944412</td>\n",
       "      <td>40.714729</td>\n",
       "      <td>1</td>\n",
       "      <td>...</td>\n",
       "      <td>0.00</td>\n",
       "      <td>0.0</td>\n",
       "      <td>NaN</td>\n",
       "      <td>0.3</td>\n",
       "      <td>6.30</td>\n",
       "      <td>2</td>\n",
       "      <td>1.0</td>\n",
       "      <td>0</td>\n",
       "      <td>1</td>\n",
       "      <td>0.00000</td>\n",
       "    </tr>\n",
       "  </tbody>\n",
       "</table>\n",
       "<p>5 rows × 24 columns</p>\n",
       "</div>"
      ],
      "text/plain": [
       "   VendorID lpep_pickup_datetime Lpep_dropoff_datetime Store_and_fwd_flag  \\\n",
       "0         2  2015-09-01 00:02:34   2015-09-01 00:02:38                  N   \n",
       "1         2  2015-09-01 00:04:20   2015-09-01 00:04:24                  N   \n",
       "2         2  2015-09-01 00:01:50   2015-09-01 00:04:24                  N   \n",
       "3         2  2015-09-01 00:02:36   2015-09-01 00:06:42                  N   \n",
       "4         2  2015-09-01 00:00:14   2015-09-01 00:04:20                  N   \n",
       "\n",
       "   RateCodeID  Pickup_longitude  Pickup_latitude  Dropoff_longitude  \\\n",
       "0           5        -73.979485        40.684956         -73.979431   \n",
       "1           5        -74.010796        40.912216         -74.010780   \n",
       "2           1        -73.921410        40.766708         -73.914413   \n",
       "3           1        -73.921387        40.766678         -73.931427   \n",
       "4           1        -73.955482        40.714046         -73.944412   \n",
       "\n",
       "   Dropoff_latitude  Passenger_count     ...       Tip_amount  Tolls_amount  \\\n",
       "0         40.685020                1     ...             1.95           0.0   \n",
       "1         40.912212                1     ...             0.00           0.0   \n",
       "2         40.764687                1     ...             0.50           0.0   \n",
       "3         40.771584                1     ...             0.00           0.0   \n",
       "4         40.714729                1     ...             0.00           0.0   \n",
       "\n",
       "   Ehail_fee  improvement_surcharge  Total_amount  Payment_type  Trip_type   \\\n",
       "0        NaN                    0.0          9.75             1         2.0   \n",
       "1        NaN                    0.0         45.00             1         2.0   \n",
       "2        NaN                    0.3          5.80             1         1.0   \n",
       "3        NaN                    0.3          6.30             2         1.0   \n",
       "4        NaN                    0.3          6.30             2         1.0   \n",
       "\n",
       "   Pickup_Hour  Day_of_Week  Tip_percent  \n",
       "0            0            1     20.00000  \n",
       "1            0            1      0.00000  \n",
       "2            0            1      8.62069  \n",
       "3            0            1      0.00000  \n",
       "4            0            1      0.00000  \n",
       "\n",
       "[5 rows x 24 columns]"
      ]
     },
     "execution_count": 330,
     "metadata": {},
     "output_type": "execute_result"
    }
   ],
   "source": [
    "trip_data['Tip_percent']=(trip_data['Tip_amount']/trip_data['Total_amount'])*100\n",
    "trip_data['Tip_percent'].dropna(axis=0,inplace=True)\n",
    "trip_data.head()"
   ]
  },
  {
   "cell_type": "markdown",
   "metadata": {},
   "source": [
    "#### Data Cleaning:"
   ]
  },
  {
   "cell_type": "code",
   "execution_count": 331,
   "metadata": {},
   "outputs": [
    {
     "data": {
      "text/plain": [
       "VendorID                 0\n",
       "Pickup_Hour              0\n",
       "Trip_type                0\n",
       "Payment_type             0\n",
       "Total_amount             0\n",
       "improvement_surcharge    0\n",
       "Tolls_amount             0\n",
       "Tip_amount               0\n",
       "MTA_tax                  0\n",
       "Extra                    0\n",
       "Day_of_Week              0\n",
       "Fare_amount              0\n",
       "Passenger_count          0\n",
       "Dropoff_latitude         0\n",
       "Dropoff_longitude        0\n",
       "Pickup_latitude          0\n",
       "Pickup_longitude         0\n",
       "RateCodeID               0\n",
       "Store_and_fwd_flag       0\n",
       "Lpep_dropoff_datetime    0\n",
       "lpep_pickup_datetime     0\n",
       "Trip_distance            0\n",
       "Tip_percent              0\n",
       "dtype: int64"
      ]
     },
     "execution_count": 331,
     "metadata": {},
     "output_type": "execute_result"
    }
   ],
   "source": [
    "if 'Ehail_fee' in trip_data.columns:\n",
    "    trip_data.drop(['Ehail_fee'],axis=1,inplace=True)\n",
    "\n",
    "# Removing rows which have NA values as 'Tip_percent'\n",
    "trip_data['Tip_percent'].dropna(axis=0,inplace=True)\n",
    "\n",
    "#We remove transactions done through cash mode, as only credit card(Payment_Type=1) tips are recorded\n",
    "trip_data=trip_data[trip_data['Payment_type']==1]\n",
    "\n",
    "#Checking for values of Tip_percent which are less than 0 and greater than 100\n",
    "trip_data=trip_data.drop(trip_data[(trip_data['Tip_percent']<0)|(trip_data['Tip_percent']>100)].index)\n",
    "\n",
    "#Removing data points having 0 or negative bill amount\n",
    "trip_data=trip_data.drop(trip_data[trip_data['Total_amount']<=0].index)\n",
    "\n",
    "#Removing data points having 0 as latitude/longitude for pickup/dropoff location \n",
    "trip_data=trip_data.drop(trip_data[(trip_data['Pickup_longitude']==0)|(trip_data['Pickup_longitude']==0)\n",
    "                         |(trip_data['Pickup_longitude']==0)|(trip_data['Pickup_longitude']==0)].index)\n",
    "\n",
    "#Trips with 0 distance will not contribute to our model, so we remove them\n",
    "trip_data.drop(trip_data[trip_data['Trip_distance']==0].index,axis=0,inplace=True)\n",
    "\n",
    "#We will now drop these missing values from our model.\n",
    "trip_data.drop(trip_data[trip_data.isnull().any(1)].index,axis=0,inplace=True)\n",
    "\n",
    "#Checking for missing values after performing data cleaning-\n",
    "trip_data.isnull().sum().sort_values()"
   ]
  },
  {
   "cell_type": "markdown",
   "metadata": {},
   "source": [
    "#### Data Exploration:"
   ]
  },
  {
   "cell_type": "markdown",
   "metadata": {},
   "source": [
    "#### From people who paid via credit card,most of commutes pay a tip of 16-18%. Almost no one tips over 32%"
   ]
  },
  {
   "cell_type": "code",
   "execution_count": 332,
   "metadata": {},
   "outputs": [
    {
     "data": {
      "image/png": "[encoded data removed]",
      "text/plain": [
       "<Figure size 432x288 with 1 Axes>"
      ]
     },
     "metadata": {},
     "output_type": "display_data"
    }
   ],
   "source": [
    "plt.hist(trip_data['Tip_percent'],bins=50,range=[0,40])\n",
    "plt.xlabel('Tip Percentage')\n",
    "plt.ylabel('Frequency')\n",
    "plt.title('Histogram for Tip Percentage ')\n",
    "plt.show()"
   ]
  },
  {
   "cell_type": "markdown",
   "metadata": {},
   "source": [
    "#### Feature Engineering:"
   ]
  },
  {
   "cell_type": "code",
   "execution_count": 333,
   "metadata": {},
   "outputs": [
    {
     "data": {
      "text/html": [
       "<div>\n",
       "<style scoped>\n",
       "    .dataframe tbody tr th:only-of-type {\n",
       "        vertical-align: middle;\n",
       "    }\n",
       "\n",
       "    .dataframe tbody tr th {\n",
       "        vertical-align: top;\n",
       "    }\n",
       "\n",
       "    .dataframe thead th {\n",
       "        text-align: right;\n",
       "    }\n",
       "</style>\n",
       "<table border=\"1\" class=\"dataframe\">\n",
       "  <thead>\n",
       "    <tr style=\"text-align: right;\">\n",
       "      <th></th>\n",
       "      <th>VendorID</th>\n",
       "      <th>lpep_pickup_datetime</th>\n",
       "      <th>Lpep_dropoff_datetime</th>\n",
       "      <th>Store_and_fwd_flag</th>\n",
       "      <th>RateCodeID</th>\n",
       "      <th>Pickup_longitude</th>\n",
       "      <th>Pickup_latitude</th>\n",
       "      <th>Dropoff_longitude</th>\n",
       "      <th>Dropoff_latitude</th>\n",
       "      <th>Passenger_count</th>\n",
       "      <th>...</th>\n",
       "      <th>improvement_surcharge</th>\n",
       "      <th>Total_amount</th>\n",
       "      <th>Payment_type</th>\n",
       "      <th>Trip_type</th>\n",
       "      <th>Pickup_Hour</th>\n",
       "      <th>Day_of_Week</th>\n",
       "      <th>Tip_percent</th>\n",
       "      <th>Dropoff_Hour</th>\n",
       "      <th>Trip_Duration</th>\n",
       "      <th>Speed</th>\n",
       "    </tr>\n",
       "  </thead>\n",
       "  <tbody>\n",
       "    <tr>\n",
       "      <th>2</th>\n",
       "      <td>2</td>\n",
       "      <td>2015-09-01 00:01:50</td>\n",
       "      <td>2015-09-01 00:04:24</td>\n",
       "      <td>N</td>\n",
       "      <td>1</td>\n",
       "      <td>-73.921410</td>\n",
       "      <td>40.766708</td>\n",
       "      <td>-73.914413</td>\n",
       "      <td>40.764687</td>\n",
       "      <td>1</td>\n",
       "      <td>...</td>\n",
       "      <td>0.3</td>\n",
       "      <td>5.80</td>\n",
       "      <td>1</td>\n",
       "      <td>1.0</td>\n",
       "      <td>0</td>\n",
       "      <td>1</td>\n",
       "      <td>8.620690</td>\n",
       "      <td>0</td>\n",
       "      <td>0.042778</td>\n",
       "      <td>13.792208</td>\n",
       "    </tr>\n",
       "    <tr>\n",
       "      <th>5</th>\n",
       "      <td>2</td>\n",
       "      <td>2015-09-01 00:00:39</td>\n",
       "      <td>2015-09-01 00:05:20</td>\n",
       "      <td>N</td>\n",
       "      <td>1</td>\n",
       "      <td>-73.945297</td>\n",
       "      <td>40.808186</td>\n",
       "      <td>-73.937668</td>\n",
       "      <td>40.821198</td>\n",
       "      <td>1</td>\n",
       "      <td>...</td>\n",
       "      <td>0.3</td>\n",
       "      <td>8.16</td>\n",
       "      <td>1</td>\n",
       "      <td>1.0</td>\n",
       "      <td>0</td>\n",
       "      <td>1</td>\n",
       "      <td>16.666667</td>\n",
       "      <td>0</td>\n",
       "      <td>0.078056</td>\n",
       "      <td>13.708185</td>\n",
       "    </tr>\n",
       "    <tr>\n",
       "      <th>6</th>\n",
       "      <td>2</td>\n",
       "      <td>2015-09-01 00:00:52</td>\n",
       "      <td>2015-09-01 00:05:50</td>\n",
       "      <td>N</td>\n",
       "      <td>1</td>\n",
       "      <td>-73.890877</td>\n",
       "      <td>40.746426</td>\n",
       "      <td>-73.876923</td>\n",
       "      <td>40.756306</td>\n",
       "      <td>1</td>\n",
       "      <td>...</td>\n",
       "      <td>0.3</td>\n",
       "      <td>7.80</td>\n",
       "      <td>1</td>\n",
       "      <td>1.0</td>\n",
       "      <td>0</td>\n",
       "      <td>1</td>\n",
       "      <td>0.000000</td>\n",
       "      <td>0</td>\n",
       "      <td>0.082778</td>\n",
       "      <td>17.275168</td>\n",
       "    </tr>\n",
       "    <tr>\n",
       "      <th>8</th>\n",
       "      <td>2</td>\n",
       "      <td>2015-09-01 00:02:36</td>\n",
       "      <td>2015-09-01 00:07:20</td>\n",
       "      <td>N</td>\n",
       "      <td>1</td>\n",
       "      <td>-73.963150</td>\n",
       "      <td>40.693829</td>\n",
       "      <td>-73.956787</td>\n",
       "      <td>40.680531</td>\n",
       "      <td>1</td>\n",
       "      <td>...</td>\n",
       "      <td>0.3</td>\n",
       "      <td>8.76</td>\n",
       "      <td>1</td>\n",
       "      <td>1.0</td>\n",
       "      <td>0</td>\n",
       "      <td>1</td>\n",
       "      <td>16.666667</td>\n",
       "      <td>0</td>\n",
       "      <td>0.078889</td>\n",
       "      <td>16.859155</td>\n",
       "    </tr>\n",
       "    <tr>\n",
       "      <th>11</th>\n",
       "      <td>2</td>\n",
       "      <td>2015-09-01 00:04:00</td>\n",
       "      <td>2015-09-01 00:06:06</td>\n",
       "      <td>N</td>\n",
       "      <td>1</td>\n",
       "      <td>-73.905540</td>\n",
       "      <td>40.772526</td>\n",
       "      <td>-73.895363</td>\n",
       "      <td>40.768963</td>\n",
       "      <td>1</td>\n",
       "      <td>...</td>\n",
       "      <td>0.3</td>\n",
       "      <td>6.36</td>\n",
       "      <td>1</td>\n",
       "      <td>1.0</td>\n",
       "      <td>0</td>\n",
       "      <td>1</td>\n",
       "      <td>16.666667</td>\n",
       "      <td>0</td>\n",
       "      <td>0.035000</td>\n",
       "      <td>20.000000</td>\n",
       "    </tr>\n",
       "  </tbody>\n",
       "</table>\n",
       "<p>5 rows × 26 columns</p>\n",
       "</div>"
      ],
      "text/plain": [
       "    VendorID lpep_pickup_datetime Lpep_dropoff_datetime Store_and_fwd_flag  \\\n",
       "2          2  2015-09-01 00:01:50   2015-09-01 00:04:24                  N   \n",
       "5          2  2015-09-01 00:00:39   2015-09-01 00:05:20                  N   \n",
       "6          2  2015-09-01 00:00:52   2015-09-01 00:05:50                  N   \n",
       "8          2  2015-09-01 00:02:36   2015-09-01 00:07:20                  N   \n",
       "11         2  2015-09-01 00:04:00   2015-09-01 00:06:06                  N   \n",
       "\n",
       "    RateCodeID  Pickup_longitude  Pickup_latitude  Dropoff_longitude  \\\n",
       "2            1        -73.921410        40.766708         -73.914413   \n",
       "5            1        -73.945297        40.808186         -73.937668   \n",
       "6            1        -73.890877        40.746426         -73.876923   \n",
       "8            1        -73.963150        40.693829         -73.956787   \n",
       "11           1        -73.905540        40.772526         -73.895363   \n",
       "\n",
       "    Dropoff_latitude  Passenger_count    ...      improvement_surcharge  \\\n",
       "2          40.764687                1    ...                        0.3   \n",
       "5          40.821198                1    ...                        0.3   \n",
       "6          40.756306                1    ...                        0.3   \n",
       "8          40.680531                1    ...                        0.3   \n",
       "11         40.768963                1    ...                        0.3   \n",
       "\n",
       "    Total_amount  Payment_type  Trip_type   Pickup_Hour  Day_of_Week  \\\n",
       "2           5.80             1         1.0            0            1   \n",
       "5           8.16             1         1.0            0            1   \n",
       "6           7.80             1         1.0            0            1   \n",
       "8           8.76             1         1.0            0            1   \n",
       "11          6.36             1         1.0            0            1   \n",
       "\n",
       "    Tip_percent  Dropoff_Hour  Trip_Duration      Speed  \n",
       "2      8.620690             0       0.042778  13.792208  \n",
       "5     16.666667             0       0.078056  13.708185  \n",
       "6      0.000000             0       0.082778  17.275168  \n",
       "8     16.666667             0       0.078889  16.859155  \n",
       "11    16.666667             0       0.035000  20.000000  \n",
       "\n",
       "[5 rows x 26 columns]"
      ]
     },
     "execution_count": 333,
     "metadata": {},
     "output_type": "execute_result"
    }
   ],
   "source": [
    "#Engineering 'Dropoff_Hour'\n",
    "trip_data['Dropoff_Hour']=trip_data['Lpep_dropoff_datetime'].apply(lambda t:pd.to_datetime(t).hour)\n",
    "\n",
    "#Engineering feature- 'Trip_Duration'\n",
    "pickuptime=trip_data['lpep_pickup_datetime'].apply(lambda t:pd.to_datetime(t))\n",
    "dropofftime=trip_data['Lpep_dropoff_datetime'].apply(lambda t:pd.to_datetime(t))\n",
    "trip_data['Trip_Duration']=(dropofftime-pickuptime)/timedelta(hours=1)\n",
    "trip_data.drop(trip_data[trip_data['Trip_Duration']==0].index,inplace=True)\n",
    "\n",
    "#Engineering feature 'Speed' which is TotalDistance/Total Time\n",
    "trip_data['Speed']=trip_data['Trip_distance']/(trip_data['Trip_Duration'])\n",
    "trip_data.replace([np.inf, -np.inf], np.nan)\n",
    "trip_data['Speed'].fillna(value=0,inplace=True)\n",
    "trip_data.head()"
   ]
  },
  {
   "cell_type": "markdown",
   "metadata": {},
   "source": [
    "#### Feature Selection:"
   ]
  },
  {
   "cell_type": "code",
   "execution_count": 334,
   "metadata": {},
   "outputs": [],
   "source": [
    "tip_model_response=trip_data.filter(['VendorID','Trip_type ','Trip_distance','Trip_Duration','Total_amount','Speed'],axis=1)\n",
    "tip_model_target=trip_data['Tip_percent']"
   ]
  },
  {
   "cell_type": "code",
   "execution_count": 335,
   "metadata": {},
   "outputs": [
    {
     "data": {
      "text/html": [
       "<div>\n",
       "<style scoped>\n",
       "    .dataframe tbody tr th:only-of-type {\n",
       "        vertical-align: middle;\n",
       "    }\n",
       "\n",
       "    .dataframe tbody tr th {\n",
       "        vertical-align: top;\n",
       "    }\n",
       "\n",
       "    .dataframe thead th {\n",
       "        text-align: right;\n",
       "    }\n",
       "</style>\n",
       "<table border=\"1\" class=\"dataframe\">\n",
       "  <thead>\n",
       "    <tr style=\"text-align: right;\">\n",
       "      <th></th>\n",
       "      <th>Trip_distance</th>\n",
       "      <th>Trip_Duration</th>\n",
       "      <th>Total_amount</th>\n",
       "      <th>Speed</th>\n",
       "    </tr>\n",
       "  </thead>\n",
       "  <tbody>\n",
       "    <tr>\n",
       "      <th>Trip_distance</th>\n",
       "      <td>1.000000</td>\n",
       "      <td>0.095734</td>\n",
       "      <td>0.918729</td>\n",
       "      <td>0.060719</td>\n",
       "    </tr>\n",
       "    <tr>\n",
       "      <th>Trip_Duration</th>\n",
       "      <td>0.095734</td>\n",
       "      <td>1.000000</td>\n",
       "      <td>0.100338</td>\n",
       "      <td>-0.005078</td>\n",
       "    </tr>\n",
       "    <tr>\n",
       "      <th>Total_amount</th>\n",
       "      <td>0.918729</td>\n",
       "      <td>0.100338</td>\n",
       "      <td>1.000000</td>\n",
       "      <td>0.019417</td>\n",
       "    </tr>\n",
       "    <tr>\n",
       "      <th>Speed</th>\n",
       "      <td>0.060719</td>\n",
       "      <td>-0.005078</td>\n",
       "      <td>0.019417</td>\n",
       "      <td>1.000000</td>\n",
       "    </tr>\n",
       "  </tbody>\n",
       "</table>\n",
       "</div>"
      ],
      "text/plain": [
       "               Trip_distance  Trip_Duration  Total_amount     Speed\n",
       "Trip_distance       1.000000       0.095734      0.918729  0.060719\n",
       "Trip_Duration       0.095734       1.000000      0.100338 -0.005078\n",
       "Total_amount        0.918729       0.100338      1.000000  0.019417\n",
       "Speed               0.060719      -0.005078      0.019417  1.000000"
      ]
     },
     "execution_count": 335,
     "metadata": {},
     "output_type": "execute_result"
    },
    {
     "data": {
      "image/png": "[encoded data removed]",
      "text/plain": [
       "<Figure size 1080x288 with 2 Axes>"
      ]
     },
     "metadata": {},
     "output_type": "display_data"
    }
   ],
   "source": [
    "#We shall now see how each dependent variable correlates with each other\n",
    "tip_model_corr=tip_model_response.filter(['Trip_distance','Trip_Duration','Total_amount','Speed'],axis=1)\n",
    "def show_correlations(dataframe, show_chart = True):\n",
    "    fig = plt.figure(figsize = (15,4))\n",
    "    corr = dataframe.corr()\n",
    "    if show_chart == True:\n",
    "        sns.heatmap(corr, \n",
    "                    xticklabels=corr.columns.values,\n",
    "                    yticklabels=corr.columns.values,\n",
    "                    annot=True,cmap='BuPu')\n",
    "    return corr\n",
    "\n",
    "show_correlations(tip_model_corr,show_chart=True)\n",
    "#We find a strong positive correlation (0.92) between Trip_Distance and Total_Amount, which is expeceted"
   ]
  },
  {
   "cell_type": "markdown",
   "metadata": {},
   "source": [
    "#### Now, relationship between each predictor variable and target variable('Tip_percent') is visualised to find linear association between them"
   ]
  },
  {
   "cell_type": "code",
   "execution_count": 336,
   "metadata": {},
   "outputs": [
    {
     "data": {
      "image/png": "[encoded data removed]",
      "text/plain": [
       "<Figure size 432x288 with 6 Axes>"
      ]
     },
     "metadata": {},
     "output_type": "display_data"
    }
   ],
   "source": [
    "sns.set()\n",
    "i=1\n",
    "fig = plt.figure()\n",
    "fig.subplots_adjust(hspace=0.4, wspace=0.4)\n",
    "for col in tip_model_response:\n",
    "    ax = fig.add_subplot(2, 3, i)\n",
    "    plt.xlabel(col)\n",
    "    plt.ylabel('Tip_percent')\n",
    "    plt.scatter(tip_model_response[col],tip_model_target,alpha=0.2,cmap='viridis')\n",
    "    i=i+1\n"
   ]
  },
  {
   "cell_type": "markdown",
   "metadata": {},
   "source": [
    "#### Data Modeling:"
   ]
  },
  {
   "cell_type": "markdown",
   "metadata": {},
   "source": [
    "#### A] Linear Regression(Using Statsmodel.api) "
   ]
  },
  {
   "cell_type": "code",
   "execution_count": 337,
   "metadata": {},
   "outputs": [
    {
     "name": "stdout",
     "output_type": "stream",
     "text": [
      "Root Mean Squared Error:  7.314670047141311\n"
     ]
    }
   ],
   "source": [
    "model = sm.OLS(tip_model_target,tip_model_response).fit()\n",
    "predictions = model.predict(tip_model_response)\n",
    "print('Root Mean Squared Error: ',np.sqrt(model.mse_resid))"
   ]
  },
  {
   "cell_type": "code",
   "execution_count": 338,
   "metadata": {
    "scrolled": true
   },
   "outputs": [
    {
     "data": {
      "text/html": [
       "<table class=\"simpletable\">\n",
       "<caption>OLS Regression Results</caption>\n",
       "<tr>\n",
       "  <th>Dep. Variable:</th>       <td>Tip_percent</td>   <th>  R-squared:         </th>  <td>   0.791</td>  \n",
       "</tr>\n",
       "<tr>\n",
       "  <th>Model:</th>                   <td>OLS</td>       <th>  Adj. R-squared:    </th>  <td>   0.791</td>  \n",
       "</tr>\n",
       "<tr>\n",
       "  <th>Method:</th>             <td>Least Squares</td>  <th>  F-statistic:       </th>  <td>4.369e+05</td> \n",
       "</tr>\n",
       "<tr>\n",
       "  <th>Date:</th>             <td>Fri, 16 Nov 2018</td> <th>  Prob (F-statistic):</th>   <td>  0.00</td>   \n",
       "</tr>\n",
       "<tr>\n",
       "  <th>Time:</th>                 <td>16:17:59</td>     <th>  Log-Likelihood:    </th> <td>-2.3585e+06</td>\n",
       "</tr>\n",
       "<tr>\n",
       "  <th>No. Observations:</th>      <td>691893</td>      <th>  AIC:               </th>  <td>4.717e+06</td> \n",
       "</tr>\n",
       "<tr>\n",
       "  <th>Df Residuals:</th>          <td>691887</td>      <th>  BIC:               </th>  <td>4.717e+06</td> \n",
       "</tr>\n",
       "<tr>\n",
       "  <th>Df Model:</th>              <td>     6</td>      <th>                     </th>      <td> </td>     \n",
       "</tr>\n",
       "<tr>\n",
       "  <th>Covariance Type:</th>      <td>nonrobust</td>    <th>                     </th>      <td> </td>     \n",
       "</tr>\n",
       "</table>\n",
       "<table class=\"simpletable\">\n",
       "<tr>\n",
       "        <td></td>           <th>coef</th>     <th>std err</th>      <th>t</th>      <th>P>|t|</th>  <th>[0.025</th>    <th>0.975]</th>  \n",
       "</tr>\n",
       "<tr>\n",
       "  <th>VendorID</th>      <td>    1.1606</td> <td>    0.020</td> <td>   58.072</td> <td> 0.000</td> <td>    1.121</td> <td>    1.200</td>\n",
       "</tr>\n",
       "<tr>\n",
       "  <th>Trip_type </th>    <td>    9.3343</td> <td>    0.039</td> <td>  238.979</td> <td> 0.000</td> <td>    9.258</td> <td>    9.411</td>\n",
       "</tr>\n",
       "<tr>\n",
       "  <th>Trip_distance</th> <td>   -1.6769</td> <td>    0.007</td> <td> -243.120</td> <td> 0.000</td> <td>   -1.690</td> <td>   -1.663</td>\n",
       "</tr>\n",
       "<tr>\n",
       "  <th>Trip_Duration</th> <td>   -0.2518</td> <td>    0.006</td> <td>  -43.248</td> <td> 0.000</td> <td>   -0.263</td> <td>   -0.240</td>\n",
       "</tr>\n",
       "<tr>\n",
       "  <th>Total_amount</th>  <td>    0.4660</td> <td>    0.002</td> <td>  254.079</td> <td> 0.000</td> <td>    0.462</td> <td>    0.470</td>\n",
       "</tr>\n",
       "<tr>\n",
       "  <th>Speed</th>         <td>    0.0012</td> <td> 3.28e-05</td> <td>   37.085</td> <td> 0.000</td> <td>    0.001</td> <td>    0.001</td>\n",
       "</tr>\n",
       "</table>\n",
       "<table class=\"simpletable\">\n",
       "<tr>\n",
       "  <th>Omnibus:</th>       <td>189960.325</td> <th>  Durbin-Watson:     </th>   <td>   1.954</td>  \n",
       "</tr>\n",
       "<tr>\n",
       "  <th>Prob(Omnibus):</th>   <td> 0.000</td>   <th>  Jarque-Bera (JB):  </th> <td>10883796.149</td>\n",
       "</tr>\n",
       "<tr>\n",
       "  <th>Skew:</th>            <td>-0.483</td>   <th>  Prob(JB):          </th>   <td>    0.00</td>  \n",
       "</tr>\n",
       "<tr>\n",
       "  <th>Kurtosis:</th>        <td>22.406</td>   <th>  Cond. No.          </th>   <td>1.33e+03</td>  \n",
       "</tr>\n",
       "</table><br/><br/>Warnings:<br/>[1] Standard Errors assume that the covariance matrix of the errors is correctly specified.<br/>[2] The condition number is large, 1.33e+03. This might indicate that there are<br/>strong multicollinearity or other numerical problems."
      ],
      "text/plain": [
       "<class 'statsmodels.iolib.summary.Summary'>\n",
       "\"\"\"\n",
       "                            OLS Regression Results                            \n",
       "==============================================================================\n",
       "Dep. Variable:            Tip_percent   R-squared:                       0.791\n",
       "Model:                            OLS   Adj. R-squared:                  0.791\n",
       "Method:                 Least Squares   F-statistic:                 4.369e+05\n",
       "Date:                Fri, 16 Nov 2018   Prob (F-statistic):               0.00\n",
       "Time:                        16:17:59   Log-Likelihood:            -2.3585e+06\n",
       "No. Observations:              691893   AIC:                         4.717e+06\n",
       "Df Residuals:                  691887   BIC:                         4.717e+06\n",
       "Df Model:                           6                                         \n",
       "Covariance Type:            nonrobust                                         \n",
       "=================================================================================\n",
       "                    coef    std err          t      P>|t|      [0.025      0.975]\n",
       "---------------------------------------------------------------------------------\n",
       "VendorID          1.1606      0.020     58.072      0.000       1.121       1.200\n",
       "Trip_type         9.3343      0.039    238.979      0.000       9.258       9.411\n",
       "Trip_distance    -1.6769      0.007   -243.120      0.000      -1.690      -1.663\n",
       "Trip_Duration    -0.2518      0.006    -43.248      0.000      -0.263      -0.240\n",
       "Total_amount      0.4660      0.002    254.079      0.000       0.462       0.470\n",
       "Speed             0.0012   3.28e-05     37.085      0.000       0.001       0.001\n",
       "==============================================================================\n",
       "Omnibus:                   189960.325   Durbin-Watson:                   1.954\n",
       "Prob(Omnibus):                  0.000   Jarque-Bera (JB):         10883796.149\n",
       "Skew:                          -0.483   Prob(JB):                         0.00\n",
       "Kurtosis:                      22.406   Cond. No.                     1.33e+03\n",
       "==============================================================================\n",
       "\n",
       "Warnings:\n",
       "[1] Standard Errors assume that the covariance matrix of the errors is correctly specified.\n",
       "[2] The condition number is large, 1.33e+03. This might indicate that there are\n",
       "strong multicollinearity or other numerical problems.\n",
       "\"\"\""
      ]
     },
     "execution_count": 338,
     "metadata": {},
     "output_type": "execute_result"
    }
   ],
   "source": [
    "model.summary()"
   ]
  },
  {
   "cell_type": "code",
   "execution_count": null,
   "metadata": {},
   "outputs": [],
   "source": [
    "#### The code for Linear Regression using sklearn has been commented because it gives a low R2 of 0.1140. \n",
    "#Requires more time to nderstand why less R2 for Linear model but more for statsmodel.api "
   ]
  },
  {
   "cell_type": "code",
   "execution_count": 293,
   "metadata": {},
   "outputs": [
    {
     "name": "stdout",
     "output_type": "stream",
     "text": [
      "Linear Regression Model R-Squared:  0.11404901520339139\n",
      "Linear Regression RMSE:  6.913090987311159\n"
     ]
    },
    {
     "data": {
      "text/plain": [
       "0.1286809537255783"
      ]
     },
     "execution_count": 293,
     "metadata": {},
     "output_type": "execute_result"
    }
   ],
   "source": [
    "# #Linear Regression(Using Sklearn: Linearmodel)\n",
    "# X_train,X_test,Y_train,Y_test=train_test_split(tip_model_response,tip_model_target,test_size=0.2,random_state=0)\n",
    "# regressor=LinearRegression()\n",
    "# regressor.fit(X_train,Y_train)\n",
    "# #Calculating R-square:\n",
    "# y_pred=regressor.predict(X_test)\n",
    "# print('Linear Regression Model R-Squared: ',regressor.score(X_test,Y_test))\n",
    "# mse=mean_squared_error(y_pred,Y_test)\n",
    "# print('Linear Regression RMSE: ',np.sqrt(mse))\n",
    "# regressor.fit(tip_model_response,tip_model_target)\n",
    "# regressor.score(tip_model_response,tip_model_target)"
   ]
  },
  {
   "cell_type": "markdown",
   "metadata": {},
   "source": [
    "#### B] Random Forest Regression"
   ]
  },
  {
   "cell_type": "code",
   "execution_count": 294,
   "metadata": {},
   "outputs": [],
   "source": [
    "#Feature Scaling:\n",
    "#As every variable has different scale, we need to scale our dataset\n",
    "sc = StandardScaler()  \n",
    "X_train = sc.fit_transform(X_train)  \n",
    "X_test = sc.transform(X_test) "
   ]
  },
  {
   "cell_type": "code",
   "execution_count": 295,
   "metadata": {},
   "outputs": [],
   "source": [
    "#Training the Algorithm\n",
    "regressor=RandomForestRegressor(n_estimators=200,random_state=0)\n",
    "regressor.fit(X_train,Y_train)\n",
    "y_pred=regressor.predict(X_test)"
   ]
  },
  {
   "cell_type": "code",
   "execution_count": 296,
   "metadata": {},
   "outputs": [
    {
     "name": "stdout",
     "output_type": "stream",
     "text": [
      "Mean Absolute Error: 1.2949306243421164\n",
      "Mean Squared Error: 10.054465940913431\n",
      "Root Mean Squared Error: 3.17087778712984\n",
      "R2 : 0.8136093354866634\n"
     ]
    }
   ],
   "source": [
    "print('Mean Absolute Error:', metrics.mean_absolute_error(Y_test,y_pred))  \n",
    "print('Mean Squared Error:', metrics.mean_squared_error(Y_test,y_pred)) \n",
    "print('Root Mean Squared Error:', np.sqrt(metrics.mean_squared_error(Y_test,y_pred)))\n",
    "print('R2 :',metrics.r2_score(Y_test, y_pred))"
   ]
  },
  {
   "cell_type": "code",
   "execution_count": 297,
   "metadata": {},
   "outputs": [
    {
     "name": "stdout",
     "output_type": "stream",
     "text": [
      "Feature Importance:  [0.01147868 0.02206253 0.19021152 0.22097832 0.50317904 0.05208991]\n"
     ]
    }
   ],
   "source": [
    "print('Feature Importance: ',regressor.feature_importances_)"
   ]
  },
  {
   "cell_type": "code",
   "execution_count": null,
   "metadata": {},
   "outputs": [],
   "source": [
    "#Considering scale of Percent_Tip from 0-100, an error of 3.2% is permittable.\n",
    "#We get RMSE=3.62% when number of estimators is 20. \n",
    "#We get RMSE= 3.17% when number of estimators is 200"
   ]
  },
  {
   "cell_type": "markdown",
   "metadata": {},
   "source": [
    "#### C] Gradient Boosted Decision Trees"
   ]
  },
  {
   "cell_type": "code",
   "execution_count": 298,
   "metadata": {},
   "outputs": [],
   "source": [
    "gbrt=GradientBoostingRegressor(n_estimators=100)\n",
    "gbrt.fit(X_train,Y_train)\n",
    "y_pred=gbrt.predict(X_test)"
   ]
  },
  {
   "cell_type": "code",
   "execution_count": 299,
   "metadata": {},
   "outputs": [
    {
     "name": "stdout",
     "output_type": "stream",
     "text": [
      "Mean Absolute Error: 3.4456391042999277\n",
      "Mean Squared Error: 24.236733378576922\n",
      "Root Mean Squared Error: 4.923081695297867\n",
      "R2 : 0.5506970865868673\n"
     ]
    }
   ],
   "source": [
    "print('Mean Absolute Error:', metrics.mean_absolute_error(Y_test,y_pred))  \n",
    "print('Mean Squared Error:', metrics.mean_squared_error(Y_test,y_pred)) \n",
    "print('Root Mean Squared Error:', np.sqrt(metrics.mean_squared_error(Y_test,y_pred)))\n",
    "print('R2 :',metrics.r2_score(Y_test,y_pred))"
   ]
  },
  {
   "cell_type": "code",
   "execution_count": 301,
   "metadata": {},
   "outputs": [
    {
     "name": "stdout",
     "output_type": "stream",
     "text": [
      "Feature Importance:  [0.00995764 0.04382119 0.33287646 0.22268761 0.3851536  0.00550349]\n"
     ]
    }
   ],
   "source": [
    "print('Feature Importance: ',gbrt.feature_importances_)"
   ]
  },
  {
   "cell_type": "markdown",
   "metadata": {},
   "source": [
    "#### Improving the performance of model by applying Hyperparamter tuning.Before Hyperparameter tuning, R2 obtained is: 0.55.We use a cross-validation generator to select train and CV datasets to finetune parameters.We use a crossvalidation generator that can train the model by tuning the parameters based on a cross-validation subset (cv) that is picked from within the training set. A different cv subset will be picked for each iteration, we control the number of iterations. Then we will use these cv/train splits and run a gridsearch function that will evaluate the model with each split and tune parameters #to give us the best parameter that gives the optimal result. "
   ]
  },
  {
   "cell_type": "code",
   "execution_count": 302,
   "metadata": {},
   "outputs": [
    {
     "name": "stdout",
     "output_type": "stream",
     "text": [
      "Best Estimator learned through GridSearch:  GradientBoostingRegressor(alpha=0.9, criterion='friedman_mse', init=None,\n",
      "             learning_rate=0.1, loss='ls', max_depth=6, max_features=1.0,\n",
      "             max_leaf_nodes=None, min_impurity_decrease=0.0,\n",
      "             min_impurity_split=None, min_samples_leaf=3,\n",
      "             min_samples_split=2, min_weight_fraction_leaf=0.0,\n",
      "             n_estimators=200, presort='auto', random_state=None,\n",
      "             subsample=1.0, verbose=0, warm_start=False)\n"
     ]
    }
   ],
   "source": [
    "cv = ShuffleSplit(X_train.shape[0], n_iter=10, test_size=0.2)\n",
    "param_grid={'n_estimators':[200], 'learning_rate': [0.1],\n",
    "          'max_depth':[6], 'min_samples_leaf':[3],'max_features':[1.0]} \n",
    "n_jobs=4\n",
    "classifier = GridSearchCV(estimator=estimator, cv=cv, param_grid=param_grid, n_jobs=n_jobs)\n",
    "classifier.fit(X_train,Y_train)\n",
    "print('Best Estimator learned through GridSearch: ',classifier.best_estimator_)"
   ]
  },
  {
   "cell_type": "markdown",
   "metadata": {},
   "source": [
    "#### After applying Hyperparameter tuning and using Grid Search cross validation technique , the R2 of our model has improved by approx 25%. We now get 0.81 as R^2."
   ]
  },
  {
   "cell_type": "code",
   "execution_count": 303,
   "metadata": {},
   "outputs": [
    {
     "name": "stdout",
     "output_type": "stream",
     "text": [
      "Gradient Boosting Improved R2:  0.8100645490167735\n"
     ]
    }
   ],
   "source": [
    "print('Gradient Boosting Improved R2: ',classifier.best_estimator_.score(X_train,Y_train))"
   ]
  },
  {
   "cell_type": "code",
   "execution_count": 304,
   "metadata": {},
   "outputs": [
    {
     "name": "stdout",
     "output_type": "stream",
     "text": [
      "Gradient Boosting RMSE:  3.4275955559822946\n"
     ]
    }
   ],
   "source": [
    "y_pred=classifier.predict(X_test)\n",
    "model_mse=mean_squared_error(y_pred,Y_test)\n",
    "print('Gradient Boosting RMSE: ',np.sqrt(model_mse))"
   ]
  },
  {
   "cell_type": "markdown",
   "metadata": {},
   "source": [
    "#### Engineering feature 'Week' which is the number of week of month. Sept 1- 7: Week 1, Sept 8-14:Week 2, Sept 15-21:Week 3,Sept 22-28:Week 4, Sept 29-30:Week 5"
   ]
  },
  {
   "cell_type": "code",
   "execution_count": 339,
   "metadata": {},
   "outputs": [],
   "source": [
    "trip_data['Week']=trip_data['Lpep_dropoff_datetime'].apply(lambda t: math.floor(((pd.to_datetime(t).day)/7+1)))"
   ]
  },
  {
   "cell_type": "code",
   "execution_count": 340,
   "metadata": {},
   "outputs": [
    {
     "data": {
      "text/plain": [
       "3    170187\n",
       "2    168363\n",
       "4    159334\n",
       "1    131247\n",
       "5     62762\n",
       "Name: Week, dtype: int64"
      ]
     },
     "execution_count": 340,
     "metadata": {},
     "output_type": "execute_result"
    }
   ],
   "source": [
    "trip_data['Week'].value_counts()"
   ]
  },
  {
   "cell_type": "markdown",
   "metadata": {},
   "source": [
    "#### We observe that the maximum speed is 202680 mph, which is not possible. This is probably dues to incorrect data collection. We remove all such records whose speeds are greater than 100 miles per hour"
   ]
  },
  {
   "cell_type": "code",
   "execution_count": 342,
   "metadata": {},
   "outputs": [],
   "source": [
    "trip_data[trip_data['Speed']==trip_data['Speed'].max()]\n",
    "trip_data.drop(trip_data[trip_data['Speed']>=100].index,axis=0,inplace=True)"
   ]
  },
  {
   "cell_type": "code",
   "execution_count": 343,
   "metadata": {
    "scrolled": false
   },
   "outputs": [
    {
     "data": {
      "text/html": [
       "<div>\n",
       "<style scoped>\n",
       "    .dataframe tbody tr th:only-of-type {\n",
       "        vertical-align: middle;\n",
       "    }\n",
       "\n",
       "    .dataframe tbody tr th {\n",
       "        vertical-align: top;\n",
       "    }\n",
       "\n",
       "    .dataframe thead th {\n",
       "        text-align: right;\n",
       "    }\n",
       "</style>\n",
       "<table border=\"1\" class=\"dataframe\">\n",
       "  <thead>\n",
       "    <tr style=\"text-align: right;\">\n",
       "      <th></th>\n",
       "      <th>Week</th>\n",
       "      <th>Speed</th>\n",
       "    </tr>\n",
       "  </thead>\n",
       "  <tbody>\n",
       "    <tr>\n",
       "      <th>0</th>\n",
       "      <td>1</td>\n",
       "      <td>14.173812</td>\n",
       "    </tr>\n",
       "    <tr>\n",
       "      <th>1</th>\n",
       "      <td>2</td>\n",
       "      <td>13.328973</td>\n",
       "    </tr>\n",
       "    <tr>\n",
       "      <th>2</th>\n",
       "      <td>3</td>\n",
       "      <td>13.272556</td>\n",
       "    </tr>\n",
       "    <tr>\n",
       "      <th>3</th>\n",
       "      <td>4</td>\n",
       "      <td>13.859503</td>\n",
       "    </tr>\n",
       "    <tr>\n",
       "      <th>4</th>\n",
       "      <td>5</td>\n",
       "      <td>12.985424</td>\n",
       "    </tr>\n",
       "  </tbody>\n",
       "</table>\n",
       "</div>"
      ],
      "text/plain": [
       "   Week      Speed\n",
       "0     1  14.173812\n",
       "1     2  13.328973\n",
       "2     3  13.272556\n",
       "3     4  13.859503\n",
       "4     5  12.985424"
      ]
     },
     "execution_count": 343,
     "metadata": {},
     "output_type": "execute_result"
    }
   ],
   "source": [
    "#Calculating average speed for 5 weeks\n",
    "week_data=trip_data[['Speed','Week']]\n",
    "week_data=week_data.groupby('Week',as_index=False)\n",
    "week_data=week_data.aggregate(np.mean)\n",
    "week_data"
   ]
  },
  {
   "cell_type": "markdown",
   "metadata": {},
   "source": [
    "#### Intent: To perform a test to determine if the average trip speeds are materially the same in all weeks of September"
   ]
  },
  {
   "cell_type": "markdown",
   "metadata": {},
   "source": [
    "Null Hypothesis H0:u1=u2=u3=u4=u4=u5 "
   ]
  },
  {
   "cell_type": "markdown",
   "metadata": {},
   "source": [
    "Alternative Hypothese H1: Average speeds for atleast 2 weeks are different."
   ]
  },
  {
   "cell_type": "markdown",
   "metadata": {},
   "source": [
    "#### A one-way analysis of variance(ANOVA) will help to determine whether differences exist in average speed of the 5 weeks."
   ]
  },
  {
   "cell_type": "code",
   "execution_count": 344,
   "metadata": {},
   "outputs": [
    {
     "data": {
      "text/plain": [
       "F_onewayResult(statistic=728.564156282077, pvalue=0.0)"
      ]
     },
     "execution_count": 344,
     "metadata": {},
     "output_type": "execute_result"
    }
   ],
   "source": [
    "stats.f_oneway(trip_data[trip_data['Week']==1]['Speed'],trip_data[trip_data['Week']==2]['Speed'],\n",
    "               trip_data[trip_data['Week']==3]['Speed'],trip_data[trip_data['Week']==4]['Speed'],\n",
    "               trip_data[trip_data['Week']==5]['Speed'])"
   ]
  },
  {
   "cell_type": "markdown",
   "metadata": {},
   "source": [
    "#### As p-value of F-distribution(0.0)<0.05, we reject the Null Hypothesis that average speeds are same in all weeks. p-value of 0.0 indicates a highly significant result. To know which weeks have different average speeds, we can conduct pair-wise T-tests. We will have to conduct 5C2=10 tests. For each test, if we consider significance level of 5%,  the probability of making Type 1 error is: 1-(0.95)^10=0.40, which is very high. Hence conducting paired wise t-test test is not feasible"
   ]
  },
  {
   "cell_type": "code",
   "execution_count": 347,
   "metadata": {},
   "outputs": [
    {
     "data": {
      "image/png": "[encoded data removed]",
      "text/plain": [
       "<Figure size 432x288 with 1 Axes>"
      ]
     },
     "metadata": {},
     "output_type": "display_data"
    }
   ],
   "source": [
    "sns.set()\n",
    "plt.plot('Week','Speed',data=week_data,marker='o',linestyle='--')\n",
    "plt.xlabel('Week of Month')\n",
    "plt.ylabel('Average Speed')\n",
    "plt.title('Distribution of Average Speed 5 Weeks of Septemeber 2015')\n",
    "plt.xticks(np.arange(1,6,step=1))\n",
    "plt.yticks(np.arange(10,18,step=1))\n",
    "plt.show()"
   ]
  },
  {
   "cell_type": "markdown",
   "metadata": {},
   "source": [
    "#### Intent: Distribution of average trip speed as a function of time of day"
   ]
  },
  {
   "cell_type": "code",
   "execution_count": 346,
   "metadata": {},
   "outputs": [
    {
     "data": {
      "text/html": [
       "<div>\n",
       "<style scoped>\n",
       "    .dataframe tbody tr th:only-of-type {\n",
       "        vertical-align: middle;\n",
       "    }\n",
       "\n",
       "    .dataframe tbody tr th {\n",
       "        vertical-align: top;\n",
       "    }\n",
       "\n",
       "    .dataframe thead th {\n",
       "        text-align: right;\n",
       "    }\n",
       "</style>\n",
       "<table border=\"1\" class=\"dataframe\">\n",
       "  <thead>\n",
       "    <tr style=\"text-align: right;\">\n",
       "      <th></th>\n",
       "      <th>Pickup_Hour</th>\n",
       "      <th>Speed</th>\n",
       "    </tr>\n",
       "  </thead>\n",
       "  <tbody>\n",
       "    <tr>\n",
       "      <th>0</th>\n",
       "      <td>0</td>\n",
       "      <td>15.082059</td>\n",
       "    </tr>\n",
       "    <tr>\n",
       "      <th>1</th>\n",
       "      <td>1</td>\n",
       "      <td>15.407533</td>\n",
       "    </tr>\n",
       "    <tr>\n",
       "      <th>2</th>\n",
       "      <td>2</td>\n",
       "      <td>15.752728</td>\n",
       "    </tr>\n",
       "    <tr>\n",
       "      <th>3</th>\n",
       "      <td>3</td>\n",
       "      <td>16.281710</td>\n",
       "    </tr>\n",
       "    <tr>\n",
       "      <th>4</th>\n",
       "      <td>4</td>\n",
       "      <td>18.107290</td>\n",
       "    </tr>\n",
       "    <tr>\n",
       "      <th>5</th>\n",
       "      <td>5</td>\n",
       "      <td>20.139802</td>\n",
       "    </tr>\n",
       "    <tr>\n",
       "      <th>6</th>\n",
       "      <td>6</td>\n",
       "      <td>18.275743</td>\n",
       "    </tr>\n",
       "    <tr>\n",
       "      <th>7</th>\n",
       "      <td>7</td>\n",
       "      <td>14.372578</td>\n",
       "    </tr>\n",
       "    <tr>\n",
       "      <th>8</th>\n",
       "      <td>8</td>\n",
       "      <td>12.667195</td>\n",
       "    </tr>\n",
       "    <tr>\n",
       "      <th>9</th>\n",
       "      <td>9</td>\n",
       "      <td>12.916633</td>\n",
       "    </tr>\n",
       "    <tr>\n",
       "      <th>10</th>\n",
       "      <td>10</td>\n",
       "      <td>13.117944</td>\n",
       "    </tr>\n",
       "    <tr>\n",
       "      <th>11</th>\n",
       "      <td>11</td>\n",
       "      <td>12.953052</td>\n",
       "    </tr>\n",
       "    <tr>\n",
       "      <th>12</th>\n",
       "      <td>12</td>\n",
       "      <td>12.891868</td>\n",
       "    </tr>\n",
       "    <tr>\n",
       "      <th>13</th>\n",
       "      <td>13</td>\n",
       "      <td>12.922176</td>\n",
       "    </tr>\n",
       "    <tr>\n",
       "      <th>14</th>\n",
       "      <td>14</td>\n",
       "      <td>12.306788</td>\n",
       "    </tr>\n",
       "    <tr>\n",
       "      <th>15</th>\n",
       "      <td>15</td>\n",
       "      <td>11.892966</td>\n",
       "    </tr>\n",
       "    <tr>\n",
       "      <th>16</th>\n",
       "      <td>16</td>\n",
       "      <td>11.601501</td>\n",
       "    </tr>\n",
       "    <tr>\n",
       "      <th>17</th>\n",
       "      <td>17</td>\n",
       "      <td>11.510524</td>\n",
       "    </tr>\n",
       "    <tr>\n",
       "      <th>18</th>\n",
       "      <td>18</td>\n",
       "      <td>12.059040</td>\n",
       "    </tr>\n",
       "    <tr>\n",
       "      <th>19</th>\n",
       "      <td>19</td>\n",
       "      <td>12.621005</td>\n",
       "    </tr>\n",
       "    <tr>\n",
       "      <th>20</th>\n",
       "      <td>20</td>\n",
       "      <td>13.345217</td>\n",
       "    </tr>\n",
       "    <tr>\n",
       "      <th>21</th>\n",
       "      <td>21</td>\n",
       "      <td>14.209463</td>\n",
       "    </tr>\n",
       "    <tr>\n",
       "      <th>22</th>\n",
       "      <td>22</td>\n",
       "      <td>14.632200</td>\n",
       "    </tr>\n",
       "    <tr>\n",
       "      <th>23</th>\n",
       "      <td>23</td>\n",
       "      <td>14.820565</td>\n",
       "    </tr>\n",
       "  </tbody>\n",
       "</table>\n",
       "</div>"
      ],
      "text/plain": [
       "    Pickup_Hour      Speed\n",
       "0             0  15.082059\n",
       "1             1  15.407533\n",
       "2             2  15.752728\n",
       "3             3  16.281710\n",
       "4             4  18.107290\n",
       "5             5  20.139802\n",
       "6             6  18.275743\n",
       "7             7  14.372578\n",
       "8             8  12.667195\n",
       "9             9  12.916633\n",
       "10           10  13.117944\n",
       "11           11  12.953052\n",
       "12           12  12.891868\n",
       "13           13  12.922176\n",
       "14           14  12.306788\n",
       "15           15  11.892966\n",
       "16           16  11.601501\n",
       "17           17  11.510524\n",
       "18           18  12.059040\n",
       "19           19  12.621005\n",
       "20           20  13.345217\n",
       "21           21  14.209463\n",
       "22           22  14.632200\n",
       "23           23  14.820565"
      ]
     },
     "execution_count": 346,
     "metadata": {},
     "output_type": "execute_result"
    }
   ],
   "source": [
    "speed_day=trip_data[['Speed','Pickup_Hour']]\n",
    "speed_day=speed_day.groupby('Pickup_Hour',as_index=False)\n",
    "speed_day=speed_day.aggregate(np.mean)\n",
    "speed_day"
   ]
  },
  {
   "cell_type": "markdown",
   "metadata": {},
   "source": [
    "#### Null Hypothesis H0: u0=u1=u2=u3...u21=u22=u23 (Average speeds for all hours of day is same)"
   ]
  },
  {
   "cell_type": "markdown",
   "metadata": {},
   "source": [
    "#### Alternate Hypothesis H1: Average speeds for atleast two hours of day is different"
   ]
  },
  {
   "cell_type": "code",
   "execution_count": 348,
   "metadata": {},
   "outputs": [
    {
     "data": {
      "text/plain": [
       "F_onewayResult(statistic=2403.8254863281795, pvalue=0.0)"
      ]
     },
     "execution_count": 348,
     "metadata": {},
     "output_type": "execute_result"
    }
   ],
   "source": [
    "pickup_hour_speed = []\n",
    "for i in range(0,24):\n",
    "    pickup_hour_speed.append(trip_data[trip_data['Pickup_Hour']==i]['Speed'])\n",
    "\n",
    "stats.f_oneway(pickup_hour_speed[0],pickup_hour_speed[1],pickup_hour_speed[2],pickup_hour_speed[3],pickup_hour_speed[4],pickup_hour_speed[5],\n",
    "              pickup_hour_speed[6],pickup_hour_speed[7],pickup_hour_speed[8],pickup_hour_speed[9],pickup_hour_speed[10],pickup_hour_speed[11],\n",
    "              pickup_hour_speed[12],pickup_hour_speed[13],pickup_hour_speed[14],pickup_hour_speed[15],pickup_hour_speed[16],pickup_hour_speed[17],\n",
    "              pickup_hour_speed[18],pickup_hour_speed[19],pickup_hour_speed[20],pickup_hour_speed[21],pickup_hour_speed[22],pickup_hour_speed[23])\n"
   ]
  },
  {
   "cell_type": "markdown",
   "metadata": {},
   "source": [
    "#### We observe that average speed increases from 12 at midnight till 5 AM and drops after that. This can be explained by the fact that at night, there is very little traffic, so the speed can be large. However,From 8 AM to 5 PM which are work hours, the speed is very less."
   ]
  },
  {
   "cell_type": "code",
   "execution_count": 349,
   "metadata": {},
   "outputs": [
    {
     "data": {
      "image/png": "[encoded data removed]",
      "text/plain": [
       "<Figure size 432x288 with 1 Axes>"
      ]
     },
     "metadata": {},
     "output_type": "display_data"
    }
   ],
   "source": [
    "sns.set()\n",
    "plt.plot('Pickup_Hour','Speed',data=speed_day,marker='o',linestyle='-')\n",
    "plt.xlabel('Hour of Day')\n",
    "plt.ylabel('Average Speed')\n",
    "plt.title('Distribution of Average Speed across Hour of Day')\n",
    "plt.xticks(np.arange(0,24,step=1))\n",
    "plt.yticks(np.arange(12,20,step=1))\n",
    "plt.show()"
   ]
  },
  {
   "cell_type": "code",
   "execution_count": null,
   "metadata": {},
   "outputs": [],
   "source": []
  }
 ],
 "metadata": {
  "kernelspec": {
   "display_name": "Python 3",
   "language": "python",
   "name": "python3"
  },
  "language_info": {
   "codemirror_mode": {
    "name": "ipython",
    "version": 3
   },
   "file_extension": ".py",
   "mimetype": "text/x-python",
   "name": "python",
   "nbconvert_exporter": "python",
   "pygments_lexer": "ipython3",
   "version": "3.6.5"
  }
 },
 "nbformat": 4,
 "nbformat_minor": 2
}
